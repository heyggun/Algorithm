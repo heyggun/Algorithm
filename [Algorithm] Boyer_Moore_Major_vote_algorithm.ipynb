{
 "cells": [
  {
   "cell_type": "markdown",
   "id": "2ba1c324",
   "metadata": {},
   "source": [
    "# Boyer-Moore Major Vote Algorithm\n",
    "\n",
    "보이어 무어 다수결 투표 알고리즘\n",
    "\n",
    "    - 과반수 후보를 가려내는 데 주로 사용함\n",
    "    - 브루트 포스(brute force) 와 map(python에서의 dictionary) 보다 시간복잡도, 공간 복잡도 면에서 유리함"
   ]
  },
  {
   "cell_type": "code",
   "execution_count": 1,
   "id": "6e695d2e",
   "metadata": {},
   "outputs": [],
   "source": [
    "def boyer_moore_majority(arr):\n",
    "    count = 0 # 과반수 원소 후보 수\n",
    "    major = 0 # 과반수 원소 후보 번호\n",
    "    \n",
    "    for a in arr:\n",
    "        if count==0: # 후보가 0번 등장시\n",
    "            major = a # 후보교체\n",
    "            \n",
    "        if major == a: # 후보가 등장\n",
    "            count +=1\n",
    "        else:\n",
    "            count -=1\n",
    "            "
   ]
  },
  {
   "cell_type": "markdown",
   "id": "7de6fe29",
   "metadata": {},
   "source": [
    "    -> 위에서 '후보' 라고 말한 이유는 원소가 실제로 과반수가 아닐 수 있기 때문이다.\n",
    "    그렇지만 major 변수에 담긴 원소 외의 다른 원소는 과반수가 될 수 없음"
   ]
  },
  {
   "cell_type": "code",
   "execution_count": 5,
   "id": "288f7820",
   "metadata": {},
   "outputs": [],
   "source": [
    "def Boyer_moore_majority(arr):\n",
    "    count, major = 0, 0\n",
    "    for a in arr:\n",
    "        if count==0:\n",
    "            major = a\n",
    "        if major==a:\n",
    "            count+=1\n",
    "        else:\n",
    "            count-=1\n",
    "            \n",
    "    k = len(arr)\n",
    "    m = 0\n",
    "    \n",
    "    for a in arr:\n",
    "        if a==major:\n",
    "            m+=1\n",
    "    if m>k//2:\n",
    "        return major, m\n",
    "    else:\n",
    "        return None, None"
   ]
  },
  {
   "cell_type": "code",
   "execution_count": 6,
   "id": "c20d6246",
   "metadata": {},
   "outputs": [
    {
     "name": "stdout",
     "output_type": "stream",
     "text": [
      "(3, 2)\n",
      "(2, 4)\n"
     ]
    }
   ],
   "source": [
    "print(Boyer_moore_majority([3,2,3]))\n",
    "print(Boyer_moore_majority([2,2,1,1,1,2,2]))"
   ]
  },
  {
   "cell_type": "code",
   "execution_count": null,
   "id": "4fd0dfaa",
   "metadata": {},
   "outputs": [],
   "source": []
  },
  {
   "cell_type": "code",
   "execution_count": null,
   "id": "566b4b0d",
   "metadata": {},
   "outputs": [],
   "source": []
  },
  {
   "cell_type": "code",
   "execution_count": null,
   "id": "57b1c9a8",
   "metadata": {},
   "outputs": [],
   "source": []
  },
  {
   "cell_type": "markdown",
   "id": "fd850783",
   "metadata": {},
   "source": [
    "### 관련 문제 풀이"
   ]
  },
  {
   "cell_type": "markdown",
   "id": "d959a4ae",
   "metadata": {},
   "source": [
    "<백준> 1270. 전쟁 - 땅따먹기\n",
    "\n",
    "https://www.acmicpc.net/problem/1270\n",
    "\n"
   ]
  },
  {
   "cell_type": "markdown",
   "id": "d73dee66",
   "metadata": {},
   "source": [
    "**문제**\n",
    "\n",
    "    드디어 전쟁은 전면전이 시작되었고, 서로 땅을 따먹기 시작했다.\n",
    "\n",
    "    현재 여러 지역은 한창 전쟁이 벌어지고 있는 상황인데, 어느 지역은 거의 전쟁이 마무리 단계로 가고 있다.\n",
    "\n",
    "    하지만 당신은 군대를 보낼 때 적군을 혼란시키기 위해서 우리 나라의 군대라는걸 표시하지 않고, 군대의 번호로 표시했다.\n",
    "\n",
    "    어느 땅에서 한 번호의 군대의 병사가 절반을 초과한다면 그 땅은 그 번호의 군대의 지배하에 놓이게 된다.\n",
    "\n",
    "    이때, 각 땅들을 지배한 군대의 번호를 출력하여라. 만약, 아직 전쟁이 한창중인 땅이라면 “SYJKGW”을 쌍 따옴표 없이 출력한다.\n",
    "\n",
    "**입력**\n",
    "\n",
    "    첫째 줄에는 땅의 개수 n(n<=200)이 주어진다. 그리고 두 번째 줄에서 n+1번째 줄에는 제일 처음에 숫자 Ti(i번째 땅의 병사수, Ti<=100,000)와, Ti개의 숫자 (각각 병사의 군대 번호)가 주어진다. i번째 땅의 j번째 병사 번호 Nij가 주어진다. ( | Nij | <= 2^31 )\n",
    "\n",
    "\n",
    "**출력**\n",
    "\n",
    "    첫째 줄에는 각각의 땅의 상태를 순서대로 출력한다. 만약 땅이 지배가 되어있다면 그 지배한 병사의 번호를 출력하고, 아니라면 “SYJKGW”을 쌍 따옴표 없이 출력한다.\n",
    " \n",
    "**예제 입력**\n",
    "\n",
    "\n",
    "    예제 입력 1 \n",
    "    4\n",
    "    10 1 2 3 1 2 3 1 2 3 1\n",
    "    5 1 1 1 2 2\n",
    "    6 10 10 2 10 10 2\n",
    "    6 1 1 1 2 2 2 \n",
    "    \n",
    "**예제 출력**\n",
    "\n",
    "    예제 출력 1 \n",
    "    SYJKGW\n",
    "    1\n",
    "    10\n",
    "    SYJKGW"
   ]
  },
  {
   "cell_type": "code",
   "execution_count": null,
   "id": "f2d9f302",
   "metadata": {},
   "outputs": [],
   "source": []
  },
  {
   "cell_type": "code",
   "execution_count": 8,
   "id": "e58eacba",
   "metadata": {},
   "outputs": [],
   "source": [
    "def boyer_moore_vote(arr):    \n",
    "    major, count = 0,0\n",
    "    \n",
    "    for a in arr:\n",
    "        if count==0:\n",
    "            major= a\n",
    "        if major == a:\n",
    "            count+=1\n",
    "        else:\n",
    "            count-=1\n",
    "        \n",
    "    k = len(arr)\n",
    "    m = 0\n",
    "    \n",
    "    for a in arr:\n",
    "        if a==major:\n",
    "            m+=1\n",
    "    \n",
    "    if m > k//2:\n",
    "        return major\n",
    "\n",
    "    else:\n",
    "        return 'SYJKGW'    "
   ]
  },
  {
   "cell_type": "code",
   "execution_count": 13,
   "id": "3e0d495a",
   "metadata": {},
   "outputs": [
    {
     "name": "stdout",
     "output_type": "stream",
     "text": [
      "SYJKGW\n",
      "1\n",
      "10\n",
      "SYJKGW\n"
     ]
    }
   ],
   "source": [
    "print(boyer_moore_vote([1,2,3,1,2,3,1,2,3,1]))\n",
    "print(boyer_moore_vote([1,1,1,2,2]))\n",
    "print(boyer_moore_vote([10,10,2,10,10,2]))\n",
    "print(boyer_moore_vote([1,1,1,2,2,2]))"
   ]
  },
  {
   "cell_type": "code",
   "execution_count": null,
   "id": "ce9e0faa",
   "metadata": {},
   "outputs": [],
   "source": []
  },
  {
   "cell_type": "code",
   "execution_count": null,
   "id": "73002af6",
   "metadata": {},
   "outputs": [],
   "source": []
  },
  {
   "cell_type": "markdown",
   "id": "18fd2f9a",
   "metadata": {},
   "source": [
    "<LeeCode 169. Majority Element>\n",
    "\n",
    "https://leetcode.com/problems/majority-element/"
   ]
  },
  {
   "cell_type": "code",
   "execution_count": 19,
   "id": "edb54249",
   "metadata": {},
   "outputs": [],
   "source": [
    "\n",
    "class Solution:\n",
    "    def majorityElement(self, nums: list[int]) -> int:\n",
    "        major, count = 0,0\n",
    "        for num in nums:\n",
    "            if count ==0:\n",
    "                major = num\n",
    "            if major == num:\n",
    "                count+=1\n",
    "            else:\n",
    "                count-=1\n",
    "        \n",
    "        return major\n"
   ]
  },
  {
   "cell_type": "code",
   "execution_count": 20,
   "id": "8069ae57",
   "metadata": {},
   "outputs": [
    {
     "name": "stdout",
     "output_type": "stream",
     "text": [
      "3\n",
      "2\n"
     ]
    }
   ],
   "source": [
    "sol = Solution()\n",
    "print(sol.majorityElement([3,2,3]))\n",
    "print(sol.majorityElement([2,2,1,1,1,2,2]))"
   ]
  },
  {
   "attachments": {
    "image.png": {
     "image/png": "[encoded data removed]"
    }
   },
   "cell_type": "markdown",
   "id": "3ca5b6a0",
   "metadata": {},
   "source": [
    "![image.png](attachment:image.png)"
   ]
  },
  {
   "cell_type": "code",
   "execution_count": null,
   "id": "b8c1c430",
   "metadata": {},
   "outputs": [],
   "source": []
  }
 ],
 "metadata": {
  "kernelspec": {
   "display_name": "Python 3 (ipykernel)",
   "language": "python",
   "name": "python3"
  },
  "language_info": {
   "codemirror_mode": {
    "name": "ipython",
    "version": 3
   },
   "file_extension": ".py",
   "mimetype": "text/x-python",
   "name": "python",
   "nbconvert_exporter": "python",
   "pygments_lexer": "ipython3",
   "version": "3.9.12"
  }
 },
 "nbformat": 4,
 "nbformat_minor": 5
}
