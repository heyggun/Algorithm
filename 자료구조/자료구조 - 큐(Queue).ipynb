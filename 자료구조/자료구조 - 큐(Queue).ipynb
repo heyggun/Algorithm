{
 "cells": [
  {
   "attachments": {
    "image.png": {
     "image/png": "[encoded data removed]"
    }
   },
   "cell_type": "markdown",
   "id": "50664755",
   "metadata": {},
   "source": [
    "### Queue(큐)\n",
    "\n",
    "![image.png](attachment:image.png)"
   ]
  },
  {
   "cell_type": "markdown",
   "id": "4e9084c6",
   "metadata": {},
   "source": [
    "### 1.1 Queue 성질\n",
    "\n",
    "- 큐는 한쪽 끝에서 삽입 작업이, 다른쪽 끝에서 삭제 작업이 양쪽으로 이루어짐\n",
    "- (<-> 정해진 한 곳(top)을 통해서 삽입, 삭제가 이루어지는 스택)\n",
    "- 삭제 연산만 수행되는 곳 `프론트(front)`, 삽입연산만 이루어지는 곳 `리어(rear)` 각각의 연산작업만 수행\n",
    "- `큐의 리어(rear)에서 이루어지는 삽입연산`을 `인큐(enQueue)`, `프론트에서 이루어지는 삭제연산`을 `디큐(dnQueue)`라 부름\n",
    "- 큐의 가장 첫 원소를 'front'\n",
    "- 큐의 가장 끝 원소를 'rear'\n",
    "- 큐는 들어올 때 rear로 들어오지만 나올 때는 front로 빠지는 특성\n",
    "- 접근방법은 가장 첫 원소와 끝 원소로만 가능\n",
    "- 가장 먼저 들어온 프론트 원소가 가장 먼저 삭제 \n",
    "- 즉, 큐에서 프론트 원소는 가장 먼저 큐에 들어왔던 첫 번째 원소가 되는 것이며, 리어 원소는 가장 늦게 큐에 들어온 마지막 원소가 됨\n",
    "\n",
    "\n",
    "### 1.2 Queue 활용 예시\n",
    "\n",
    "- 큐는 주로 데이터가 입력된 시간 순서대로 처리해야 할 필요가 있는 상황에 이용함\n",
    "- 우선순위가 같은 작업 예약(프린터의 인쇄 대기열)\n",
    "- 은행업무, 콜센터 고객 대기시간\n",
    "- 프로세스 관리\n",
    "- 너비 우선 탐색(BFS, Breadth-First Search) 구현\n",
    "- 캐시(Cache)구현 \n",
    "\n",
    "\n",
    "### 1.3 일반적인 큐(FIFO 정책)\n",
    "- queue.Queue()로 Queue 객체 생성\n",
    "- enqueue 방법 : Queue객체.put(데이터)  : 삽입할 데이터를 인자로 넣음\n",
    "- dequeue 방법 : Queue객체.get()  : 제일 먼저 들어간 데이터를 추출하기 때문에 인자가 들어가지 않음"
   ]
  },
  {
   "cell_type": "code",
   "execution_count": 7,
   "id": "c8cb516b",
   "metadata": {},
   "outputs": [
    {
     "name": "stdout",
     "output_type": "stream",
     "text": [
      "3\n",
      "queue\n",
      "2\n"
     ]
    }
   ],
   "source": [
    "import queue\n",
    "\n",
    "data_queue = queue.Queue()\n",
    "data_queue.put('queue')\n",
    "data_queue.put('python')\n",
    "data_queue.put(100)\n",
    "print(data_queue.qsize())\n",
    "print(data_queue.get())\n",
    "print(data_queue.qsize())"
   ]
  },
  {
   "cell_type": "markdown",
   "id": "7a4e802f",
   "metadata": {},
   "source": [
    "### 1.4 LifoQueue(LIFO 정책)\n",
    "\n",
    "- `LifoQueue`는 마지막에 들어간 것이 먼저 나오는 LIFO 정책을 사용(stack과 유사)\n",
    "- get을 통해 dequeue 하면, 마지막에 put한 데이터가 반환되고 삭제되는 것을 볼 수 있음"
   ]
  },
  {
   "cell_type": "code",
   "execution_count": 8,
   "id": "c14fe2c0",
   "metadata": {},
   "outputs": [
    {
     "name": "stdout",
     "output_type": "stream",
     "text": [
      "3\n",
      "100\n",
      "2\n"
     ]
    }
   ],
   "source": [
    "import queue\n",
    "\n",
    "data_queue = queue.LifoQueue()\n",
    "data_queue.put('lifoqueue')\n",
    "data_queue.put('python')\n",
    "data_queue.put(100)\n",
    "print(data_queue.qsize())\n",
    "print(data_queue.get())\n",
    "print(data_queue.qsize())"
   ]
  },
  {
   "cell_type": "markdown",
   "id": "9722b625",
   "metadata": {},
   "source": [
    "### 1.5 PriorityQueue(우선순위 큐)\n",
    "\n",
    "- 우선순위 큐는 데이터를 삽입할 때 마다 우선순위 번호를 넣어, 우선 순위에 따라 데이터를 추출\n",
    "- 일반적인 Queue & LifoQueue는 데이터가 enqueque된 시간적 순서와 dequeque가 관련있으나, PriorityQueue는 우선순위에 따라 dequeque가 처리됨\n",
    "- PriorityQueu enqueue 방법 : Queue객체.put((순위,데이터))"
   ]
  },
  {
   "cell_type": "code",
   "execution_count": 9,
   "id": "0f1a8ea9",
   "metadata": {},
   "outputs": [
    {
     "name": "stdout",
     "output_type": "stream",
     "text": [
      "3\n",
      "(1, 100)\n",
      "(5, 'python')\n"
     ]
    }
   ],
   "source": [
    "import queue\n",
    "\n",
    "data_queue = queue.PriorityQueue()\n",
    "data_queue.put((10, 'priorityQueue'))\n",
    "data_queue.put((5, 'python'))\n",
    "data_queue.put((1, 100))\n",
    "\n",
    "print(data_queue.qsize())\n",
    "print(data_queue.get()) # 우선순위가 높은(번호가 낮은) 것부터 추출\n",
    "print(data_queue.get())"
   ]
  },
  {
   "cell_type": "markdown",
   "id": "24bd9eeb",
   "metadata": {},
   "source": [
    "### 1.6 Queue 구현"
   ]
  },
  {
   "cell_type": "markdown",
   "id": "48eec4a6",
   "metadata": {},
   "source": [
    "- python에서 큐를 구현할때 Array.pop()도 가능하지만, 시간 복잡도가 높아 덱(deque) 라이브러리 사용\n",
    "- Array.pop(0)은 배열의 첫번째 요소를 꺼낸 뒤, 공백으로 만든 후 한칸씩 앞으로 요소를 옮겨, 마지막 빈 요소의 공간을 최종적으로 제거하기 때문에 O(N)의 복잡도를 가짐\n",
    "- 큐는 DFS를 구현할 때 자주 사용함"
   ]
  },
  {
   "cell_type": "code",
   "execution_count": 1,
   "id": "58fdaf71",
   "metadata": {},
   "outputs": [
    {
     "name": "stdout",
     "output_type": "stream",
     "text": [
      "[5, 6, 7]\n",
      "[6, 7]\n"
     ]
    }
   ],
   "source": [
    "queue = list()\n",
    "queue.append(5)\n",
    "queue.append(6)\n",
    "queue.append(7)\n",
    "print(queue)\n",
    "front = queue.pop(0)\n",
    "print(queue)\n",
    "\n",
    "#pop(0)으로 queue를 구현했을 때 O(n)의 복잡도로\n",
    "#[5,6,7] -> [-,6,7] -> [6, -, 7] -> [6,7,-] -> [6,7]"
   ]
  },
  {
   "cell_type": "markdown",
   "id": "6596252d",
   "metadata": {},
   "source": [
    "- queue를 다룰 때는 deque 라이브러리 사용\n",
    "- deque는 시간복잡도 O(1) 이기 때문에 효율적\n",
    "- deque 라이브러리로 처리한 결과를 list로 캐스팅하면 배열로 반환받을 수 있음"
   ]
  },
  {
   "cell_type": "code",
   "execution_count": 3,
   "id": "44ee76a5",
   "metadata": {},
   "outputs": [
    {
     "name": "stdout",
     "output_type": "stream",
     "text": [
      "deque([3, 7, 1, 4])\n",
      "deque([4, 1, 7, 3])\n"
     ]
    }
   ],
   "source": [
    "from collections import deque\n",
    "\n",
    "queue = deque()\n",
    "queue.append(5)\n",
    "queue.append(2)\n",
    "queue.append(3)\n",
    "queue.append(7)\n",
    "queue.popleft()\n",
    "queue.append(1)\n",
    "queue.append(4)\n",
    "queue.popleft()\n",
    "print(queue) # deque([3,7,1,4])\n",
    "queue.reverse()\n",
    "print(queue)"
   ]
  },
  {
   "cell_type": "code",
   "execution_count": 4,
   "id": "67bca282",
   "metadata": {},
   "outputs": [
    {
     "name": "stdout",
     "output_type": "stream",
     "text": [
      "deque([5, 6, 7, 8])\n",
      "5\n",
      "deque([6, 7, 8])\n",
      "[6, 7, 8]\n"
     ]
    }
   ],
   "source": [
    "from queue import deque\n",
    "\n",
    "queue = deque()\n",
    "queue.append(5)\n",
    "queue.append(6)\n",
    "queue.append(7)\n",
    "queue.append(8)\n",
    "print(queue)\n",
    "front = queue.popleft()\n",
    "print(front)\n",
    "print(queue)\n",
    "print(list(queue))"
   ]
  },
  {
   "cell_type": "code",
   "execution_count": 5,
   "id": "50d44f43",
   "metadata": {},
   "outputs": [
    {
     "name": "stdout",
     "output_type": "stream",
     "text": [
      "5\n",
      "[6, 7, 8]\n"
     ]
    }
   ],
   "source": [
    "def queue_push(q, data):\n",
    "    q.append(data)\n",
    "    \n",
    "def queue_pop(q):\n",
    "    front = q.popleft()\n",
    "    return front\n",
    "\n",
    "queue = deque()\n",
    "queue_push(queue,5)\n",
    "queue_push(queue,6)\n",
    "queue_push(queue,7)\n",
    "queue_push(queue,8)\n",
    "front = queue_pop(queue)\n",
    "print(front)\n",
    "print(list(queue))"
   ]
  },
  {
   "cell_type": "code",
   "execution_count": null,
   "id": "4b0afebb",
   "metadata": {},
   "outputs": [],
   "source": []
  }
 ],
 "metadata": {
  "kernelspec": {
   "display_name": "Python 3",
   "language": "python",
   "name": "python3"
  },
  "language_info": {
   "codemirror_mode": {
    "name": "ipython",
    "version": 3
   },
   "file_extension": ".py",
   "mimetype": "text/x-python",
   "name": "python",
   "nbconvert_exporter": "python",
   "pygments_lexer": "ipython3",
   "version": "3.7.10"
  }
 },
 "nbformat": 4,
 "nbformat_minor": 5
}
