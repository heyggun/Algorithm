{
 "cells": [
  {
   "cell_type": "markdown",
   "id": "1eee4276",
   "metadata": {},
   "source": [
    "## 그리디(Greedy) 알고리즘\n",
    "\n",
    "- `현재 상황에서 지금 당장 좋은 것만 고르는 방법`\n",
    "- 매 순간 가장 좋아 보이는 것을 선택, 현재의 선택이 나중에 미칠 영향에 대해서는 고려하지 않음\n",
    "- `최적해`를 구하는 데 사용되는 간사적인 방법(지역적으로는 최적이지만 전역적이라는 보장은 없음)\n",
    "- 항상 최적의 결과를 도출하는 것은 아니지만, 어느 정도 최적에 근사한 값을 빠르게 도출할 수 있는 장점이 있어 `근사 알고리즘`으로 사용가능\n",
    "- **`근사 알고리즘(Approximation Algorithm)`** : 어떤 최적화 문제에 대한 해의 근사값을 구하는 알고리즘. 가장 최적화되는 답을 구할 수는 없지만, 비교적 빠른 시간에 계산이 가능하며 어느 정도 보장된 근사해를 계산할 수 있음\n",
    "\n",
    "<문제 해결 방법>\n",
    "- (1) 선택 절차(Selection Procedure) : 현재 상태에서 최적의 해답 선택\n",
    "- (2) 적절성 검사(Feasibility Check) : 선택된 해가 문제의 조건을 만족하는지 검사\n",
    "- (3) 해답 검사(Solution Check) : 원래의 문제가 해결되었는지 검사, 해결되지 않았으면 선택 절차로 돌아가 위 과정 반복\n",
    "\n",
    "<그리디 알고리즘의 조건 성립>\n",
    "- 그리디 선택 조건(greedy choice property), 최적 구분 구조 조건(optimal substructure)\n",
    "- `그리디 선택 조건(greedy choice property)` : 앞의 선택이 이후의 선택에 영향을 주지 않음\n",
    "- `최적 부분 구조(optimal substucture)` : 문제에 대한 최종 해결 방법은 부분 문제에 대한 최적 문제 해결 방법으로 구성\n",
    "- 어떤 특별한 구조가 있는 문제에 대해서 그리디 알고리즘은 언제나 최적해를 찾아 낼 수 있는데 해당 구조를 **매트로이드**라고 함"
   ]
  },
  {
   "cell_type": "markdown",
   "id": "3d011541",
   "metadata": {},
   "source": [
    "----------------"
   ]
  },
  {
   "cell_type": "markdown",
   "id": "6e254db3",
   "metadata": {},
   "source": [
    "**Q. 거스름돈**\n",
    "\n",
    "    카운터에 거스름돈으로 사용할 500원, 100원, 50원, 10원 짜리 동전이 무한히 존재\n",
    "    손님에게 거슬러 줘야 할 돈이 N원 일 때 거슬러 줘야 할 동전의 최소 개수를 구하라.\n",
    "    단, 거슬러 줘야 할 돈 N은 항상 50의 배수이다."
   ]
  },
  {
   "cell_type": "markdown",
   "id": "fa74adbf",
   "metadata": {},
   "source": [
    "- `가장 큰 화폐 단위부터` 돈을 거슬러줌 \n",
    "- N원을 거슬러 줘야 할때 500원으로 거슬러 줄 수 있을 만큼, 그다음 100원, 50원, 10원 순서로 거슬러주면 최소 동전 개수로 거슬러 줄 수 있음 "
   ]
  },
  {
   "cell_type": "code",
   "execution_count": 45,
   "id": "6b365d69",
   "metadata": {},
   "outputs": [
    {
     "name": "stdout",
     "output_type": "stream",
     "text": [
      "1260\n",
      "500 100 50 10\n",
      "6\n"
     ]
    }
   ],
   "source": [
    "def greedy_coin(n, coin_array):\n",
    "    cnt = 0\n",
    "    for coin in coin_array:\n",
    "        cnt += n//coin\n",
    "        n %= coin\n",
    "        \n",
    "    return cnt\n",
    "        \n",
    "n = int(input())\n",
    "array = list(map(int, input().split()))\n",
    "result = greedy_coin(n,array)\n",
    "print(result)"
   ]
  },
  {
   "cell_type": "code",
   "execution_count": null,
   "id": "4dbc554b",
   "metadata": {},
   "outputs": [],
   "source": [
    "n = 1260\n",
    "coin_types = [500, 100, 50, 10]\n",
    "cnt = 0\n",
    "\n",
    "for coin in coin_types:\n",
    "    cnt += n//coin\n",
    "    n %= coin\n",
    "    \n",
    "print(cnt)"
   ]
  },
  {
   "cell_type": "markdown",
   "id": "b60980fc",
   "metadata": {},
   "source": [
    "- 화폐의 종류가 `K` 라고 할때, 위의 시간 복잡도는 **`O(K)`**\n",
    "- 거슬러 주어야 할 돈 N과 상관없이 화폐의 총 종류에만 영향을 받음"
   ]
  },
  {
   "cell_type": "markdown",
   "id": "a7cab3c6",
   "metadata": {},
   "source": [
    "- 그리디 알고리즘을 모든 알고리즘 문제에 적용할 수 있는 것은 아님\n",
    "- 거스름돈 문제가 가능한 것은 가지고 있는 동전 중에서 큰 단위가 항상 작은 단위의 배수이므로 작은 단위의 동전을 종합해 다른 해가 나올 수 없기 때문임\n",
    "- (예) 800원을 거슬러 주어야 할때 화폐 단위가 500원, 400원, 100원일 경우 -> 4개의 동전(500+100+100+100) 이지만, 최적의 해는 2개의 동전(400+400) 임.이 단위는 큰 단위가 작은 단위의 배수 형태이므로, 가장 큰 단위의 화폐부터 가장 작은 단위의 화폐까지 차례대로 확인하여 거슬러 주는 작업만을 수행하면 된다는 아이디어는 정당함\n",
    "- `대부분 그리디 알고리즘 문제`는 문제 풀이를 위한 최소한의 아이디어를 떠올리고 이것이 정당한지 검토할 수 있어야 답 도출 가능\n",
    "- 실제 거스룸돈 문제에서 동전(화폐)의 단위가 서로 배수 형태가 아니라 ,무작위로 주어진 경우에는 그리디 알고리즘 사용 불가능\n",
    "- 화폐의 단위가 무작위로 주어진 경우에는 `다이나믹 프로그래밍`으로 해결 \n"
   ]
  },
  {
   "cell_type": "markdown",
   "id": "7141f604",
   "metadata": {},
   "source": [
    "**Q2 큰 수의 법칙**\n",
    "    \n",
    "    여기서의 '큰 수의 법칙'은 일반적으로 통계 분야에서 다루어지는 내용과 다름.\n",
    "    다양한 수로 이루어진 배열이 있을 때, 주어진 수들을 M번 더하여 가장 큰 수를 만드는 법칙.\n",
    "    배열의 특정한 인덱스(번호)에 해당하는 수가 연속해서 k번을 초과하여 더해질 수 없는 것이 이 법칙의 특징\n",
    "    \n",
    "    예를 들어 2,4,5,4,6 으로 이루어진 배열이 있을때 M이 8이고, K가 3이라고 가정\n",
    "    이 경우 특정한 인덱스의 수가 연속해서 세 번까지만 더해질 수 있으므로 큰 수의 법칙에 따른 결과는\n",
    "    6+6+6+5+6+6+6+5 인 46이 됨\n",
    "    \n",
    "    단, 서로 다른 인덱스에 해당하는 수가 같은 경우에도 서로 다른 것으로 간주한다.\n",
    "    예를 들어 순서대로 3,4,3,4,3 으로 이루어진 배열이 있을 때 M이 7이고, K가 2라고 가정\n",
    "    이 경우 두 번째 원소에 해당하는 4와 네 번째 해당하는 원소의 4를 번갈아 두 번씩 더하는 것 가능\n",
    "    결과적으로 4+4+4+4+4+4+4 = 28이 도출됨\n",
    "    \n",
    "    배열의 크기 N, 숫자가 더해지는 횟수 M, 그리고 K가 주어질 때 큰 수의 법칙에 따른 결과 출력\n",
    "    \n",
    "    <입력 조건>\n",
    "    - 첫째 줄에 N(2<=N<=1,000), M(1<=M<=10,000), K(1<=K<=10,000)의 자연수가 주어지며, 각 자연수는 공백으로 구분\n",
    "    - 둘째 줄에 N개의 자연수가 주어짐. 각 자연수는 공백으로 구분. 단, 각각의 자연수는 1이상 10,000이하의 수로 주어짐\n",
    "    - 입력으로 주어지는 K는 항상 M보다 크거나 같다.\n",
    "    \n",
    "    <출력 조건>\n",
    "    - 첫째 줄에 큰 수의 법칙에 따라 더해진 답 출력"
   ]
  },
  {
   "cell_type": "code",
   "execution_count": 6,
   "id": "59ae07ea",
   "metadata": {},
   "outputs": [
    {
     "name": "stdout",
     "output_type": "stream",
     "text": [
      "5 8 3\n",
      "2 4 5 4 6\n",
      "46\n"
     ]
    }
   ],
   "source": [
    "N,M,K = map(int, input().split())\n",
    "arr = list(map(int, input().split()))\n",
    "\n",
    "arr.sort()\n",
    "first = arr[N-1]\n",
    "second = arr[N-2]\n",
    "result = 0\n",
    "\n",
    "while True:\n",
    "    \n",
    "    for i in range(K):\n",
    "        if M==0:\n",
    "            break\n",
    "\n",
    "        result += first\n",
    "        M -= 1\n",
    "\n",
    "    if M==0:\n",
    "        break\n",
    "\n",
    "    result += second\n",
    "    M -= 1\n",
    "    \n",
    "print(result)\n"
   ]
  },
  {
   "cell_type": "markdown",
   "id": "b0602aa1",
   "metadata": {},
   "source": [
    "- 이 문제는 M이 10,000 이하이므로 이 방식으로 문제를 해결 할 수 있지만, M의 크기가 100억 이상처럼 커지면 시간 초과 판정\n",
    "- 간단한 수학적 아이디어를 이용해 효율적으로 문제를 풀어본다면\n",
    "\n",
    "        예를 들어 N이 5이고, 입력값이 다음과 같이 2, 4, 5, 4, 6 이라면 \n",
    "        가장 큰수 :6, 두 번째로 큰수 : 5\n",
    "        이때 M이 8이고, K가 3이라면 다음과 같이 더했을때 합을 최대로 할 수 있음\n",
    "        (6+6+6+5) + (6+6+6+5) = 46\n",
    "        \n",
    "        **`반복되는 수열`** 에 대해서 파악해야함 가장 큰 수와 두 번째로 큰 수가 더해질 때는 특정한 수열 형태로 일정하게 반복되어 더해지는 특성이 있음. 위에서는 수열 {6,6,6,5} 반복. 반복되는 수열의 길이는? (K+1)로 위에 예시에서는 4가 됨 \n",
    "        따라서 M을 (K+1)로 나눈 몫이 수열이 반복되는 횟수가 됨. 다시 여기에 K를 곱해주면 가장 큰 수가 등장하는 횟수가 됨\n",
    "        \n",
    "        이 때 M이 (K+1)로 나누어떨어지지 않는 경우도 고려해야 함. 그럴 때는 M을 (K+1)로 나눈 나머지 만큼 가장 큰 수가 추가로 더해지므로, 이를 고려함. '가장 큰 수가 더해지는 횟수' 는 int(M/(K+1)) * K + M % (K+1)\n",
    "        가장 큰 수가 더해지는 횟수를 구한 다음, 이를 이용해 두 번째로 더해지는 횟수까지 구할 수 있음 \n",
    "        "
   ]
  },
  {
   "cell_type": "code",
   "execution_count": 16,
   "id": "d0309aaf",
   "metadata": {},
   "outputs": [
    {
     "name": "stdout",
     "output_type": "stream",
     "text": [
      "5 8 3\n",
      "2 4 5 4 6\n",
      "46\n"
     ]
    }
   ],
   "source": [
    "N,M,K = map(int,input().split())\n",
    "arr = list(map(int, input().split()))\n",
    "\n",
    "arr.sort()\n",
    "first = arr[N-1]\n",
    "second = arr[N-2]\n",
    "\n",
    "cnt = (M//(K+1))*K\n",
    "cnt += M%(K+1)\n",
    "\n",
    "result = 0\n",
    "result += cnt*first\n",
    "result += (M-cnt)*second\n",
    "\n",
    "print(result)"
   ]
  },
  {
   "cell_type": "markdown",
   "id": "83f02b68",
   "metadata": {},
   "source": [
    "**Q3. 숫자 카드 게임**\n",
    "\n",
    "    숫자 카드 게임은 여러 개의 숫자 카드 중에서 가장 높은 숫자가 쓰인 카드 한 장을 뽑는 게임\n",
    "    단 게임의 룰을 지키며 카드를 뽑아야 하고 룰은 다음과 같음\n",
    "    (1) 숫자가 쓰인 카드들이 NxM 형태로 놓여 있다. N은 행의 개수, M은 열의 개수\n",
    "    (2) 먼저 뽑고자 하는 카드가 포함되어 있는 행을 선택\n",
    "    (3) 그다음 선택된 행에 포함된 카드들 중 가장 숫자가 낮은 카드를 뽑아야 함\n",
    "    (4) 따라서 처음에 카드를 골라낼 행을 선택할 때, 이후에 해당 행에서 가장 숫자가 낮은 카드를 뽑을 것을 고려하여\n",
    "    최종적으로 가장 높은 숫자를 뽑을 수 있또록 전략을 세워야 함\n",
    "    \n",
    "    예를 들어, 3X3 형태로 카드가 다음과 같이 놓여 있을때,\n",
    "    \n",
    "    -M개-\n",
    "    3 1 2 | \n",
    "    4 1 4 N개\n",
    "    2 2 2 |\n",
    "    \n",
    "    카드를 골라낼 행을 고를 때 첫 번째 혹은 두 번째 행을 선택하는 경우, 최종적으로 뽑는 카드는 1이다.\n",
    "    하지만 세 번째 행을 선택하는 경우 최종적으로 뽑는 카드는 2이다. \n",
    "    이 예제에서는 세 번째 행을 선택하여 숫자 2가 쓰여진 카드를 뽑는 것이 정답니다.\n",
    "    \n",
    "    카드들이 NxM 형태로 놓여 있을때, 게임의 룰에 맞게 카드를 뽑는 프로그램을 만들자.\n",
    "    \n",
    "    <입력 조건>\n",
    "    - 첫째 줄에 숫자 카드들이 놓인 행의 개수 N과 열의 개수 M이 공백을 기준으로 하여 각각 자연수로 주어진다. (1<N, M<=100)\n",
    "    - 둘째 줄 부터 N개의 줄에 걸쳐 각 카드가 적힌 숫자가 주어진다. 각 숫자는 1이상 10,000이하의 자연수이다.\n",
    "    \n",
    "    <출력 조건>\n",
    "    - 첫째 줄에 게임의 룰에 맞게 선택한 카드에 적힌 숫자를 출력한다.\n",
    "    \n",
    "    <입력 예시1>           <출력 예시1>\n",
    "    3 3                     2\n",
    "    3 1 2\n",
    "    4 1 4\n",
    "    2 2 2\n",
    "\n",
    "    <입력 예시2>           <출력 예시2>\n",
    "    2 4                      3\n",
    "    7 3 1 8\n",
    "    3 3 3 4"
   ]
  },
  {
   "cell_type": "code",
   "execution_count": 41,
   "id": "7952ae27",
   "metadata": {},
   "outputs": [
    {
     "name": "stdout",
     "output_type": "stream",
     "text": [
      "2 4\n",
      "7 3 1 8\n",
      "3 3 3 4\n",
      "3\n"
     ]
    }
   ],
   "source": [
    "N, M = map(int, input().split())\n",
    "arr = [list(map(int,input().split())) for _ in range(N)]\n",
    "\n",
    "num = 0\n",
    "for i in arr:\n",
    "    if min(i) > num:\n",
    "        num = min(i)\n",
    "\n",
    "print(num)\n",
    "    "
   ]
  },
  {
   "cell_type": "markdown",
   "id": "d2908ad4",
   "metadata": {},
   "source": [
    "-> `각 행마다 가장 작은 수를 찾은 뒤에 그 수 중에서 가장 큰 수`를 찾는 것\n",
    "- 입력 조건에서 들어오는 수는 모두 10,000 이하라 단순히 배열에서 가장 작은 수를 찾는 기본 문법 이용\n",
    "- 리스트에서 가장 작은 원소를 찾아주는 min() 함수 이용 하거나, 2중 반복문 구조 이용"
   ]
  },
  {
   "cell_type": "markdown",
   "id": "6cee5e1f",
   "metadata": {},
   "source": [
    "<min 함수 이용> "
   ]
  },
  {
   "cell_type": "code",
   "execution_count": 43,
   "id": "3d3ded13",
   "metadata": {},
   "outputs": [
    {
     "name": "stdout",
     "output_type": "stream",
     "text": [
      "3 3\n",
      "3 1 2\n",
      "4 1 4\n",
      "2 2 2\n",
      "2\n"
     ]
    }
   ],
   "source": [
    "N, M = map(int, input().split())\n",
    "result = 0\n",
    "\n",
    "for i in range(N):\n",
    "    arr = list(map(int, input().split()))\n",
    "    min_value = min(arr)\n",
    "    result = max(result, min_value)\n",
    "    \n",
    "print(result)"
   ]
  },
  {
   "cell_type": "markdown",
   "id": "0a5d879b",
   "metadata": {},
   "source": [
    "<2중 반복문>"
   ]
  },
  {
   "cell_type": "code",
   "execution_count": 44,
   "id": "609f4480",
   "metadata": {},
   "outputs": [
    {
     "name": "stdout",
     "output_type": "stream",
     "text": [
      "2 4\n",
      "7 3 1 8\n",
      "3 3 3 4\n",
      "3\n"
     ]
    }
   ],
   "source": [
    "N, M = map(int, input().split())\n",
    "result = 0\n",
    "\n",
    "for i in range(N):\n",
    "    arr = list(map(int, input().split()))\n",
    "    min_value=10001\n",
    "    for a in arr:\n",
    "        min_value = min(min_value, a)\n",
    "    result = max(result, min_value)\n",
    "    \n",
    "print(result)"
   ]
  },
  {
   "cell_type": "markdown",
   "id": "20c20af0",
   "metadata": {},
   "source": [
    "**Q4. 1이 될때까지**\n",
    "\n",
    "    어떠한 수 N이 1이 될 때까지 다음의 두 과정 중 하나를 반복적으로 선택하여 수행하려고 한다.\n",
    "    단, 두 번째 연산은 N이 K로 나누어떨어질 때만 선택할 수 있다.\n",
    "    \n",
    "    1. N에서 1을 뺀다.\n",
    "    2. N을 K로 나눈다.\n",
    "    \n",
    "    예를 들어 N이 17, K가 4라고 가정할때, 1번의 과정을 한 번 수행시 N은 16이 되고, 이후 2번의 과정을 두 번 수행하면 \n",
    "    N은 1이된다.\n",
    "    결과적으로 이 경우 전체 과정을 실행한 횟수는 3이다. 이는 N을 1로 만드는 최소 횟수이다.\n",
    "    \n",
    "    N과 K가 주어질때 N이 1이 될 때까지 1번 혹은 2번의 과정을 수행해야 하는 최소 횟수를 구하는 프로그램 작성\n",
    "    \n",
    "    <입력 조건>\n",
    "    - 첫째 줄에 N(2<=N<=100,000)과 K(2<=K<=100,000)가 공백으로 구분되며, 각각 자연수로 주어진다.\n",
    "    이때 입력으로 주어지는 N은 항상 K보다 크거나 같다.\n",
    "    \n",
    "    <출력 조건>\n",
    "    - 첫째 줄에 N이 1이 될 때까지 1번 혹은 2번의 과정을 수행해야 하는 횟수의 최솟값을 출력한다.\n",
    "    \n",
    "   \n",
    "    <입력 예시>\n",
    "     25 5\n",
    "    <출력 예시>\n",
    "     2\n",
    "    "
   ]
  },
  {
   "cell_type": "code",
   "execution_count": 50,
   "id": "52d5d2e9",
   "metadata": {},
   "outputs": [
    {
     "name": "stdout",
     "output_type": "stream",
     "text": [
      "25 5\n",
      "6\n"
     ]
    }
   ],
   "source": [
    "N,K = map(int, input().split())\n",
    "cnt = 0\n",
    "\n",
    "while N>=K:\n",
    "    while N%K !=0:\n",
    "        N-=1\n",
    "        cnt += 1\n",
    "        \n",
    "    N //=K\n",
    "    cnt +=1\n",
    "    \n",
    "while N>1:\n",
    "    N-=1\n",
    "    cnt+=1\n",
    "\n",
    "print(cnt)"
   ]
  },
  {
   "cell_type": "markdown",
   "id": "1348a784",
   "metadata": {},
   "source": [
    "- 주어진 N에 대하여 최대한 많이 나누기\n",
    "- (1) N이 K의 배수가 될 때까지 1씩 빼기\n",
    "- (2) N을 K로 나누기"
   ]
  },
  {
   "cell_type": "code",
   "execution_count": 51,
   "id": "2035324b",
   "metadata": {},
   "outputs": [
    {
     "name": "stdout",
     "output_type": "stream",
     "text": [
      "25 5\n",
      "2\n"
     ]
    }
   ],
   "source": [
    "N,K = map(int, input().split())\n",
    "cnt = 0\n",
    "\n",
    "while True:\n",
    "    target = (N//K) * K\n",
    "    cnt += (N-target)\n",
    "    N = target\n",
    "    \n",
    "    # N이 k보다 작을때 ( 더 이상 나눌 수 없을 때) 반복문 탈출\n",
    "    if N<K:\n",
    "        break\n",
    "        \n",
    "    cnt +=1\n",
    "    N//=K\n",
    "    \n",
    "cnt += (N-1)\n",
    "print(cnt)\n",
    "    "
   ]
  },
  {
   "cell_type": "code",
   "execution_count": null,
   "id": "d53d4ffa",
   "metadata": {},
   "outputs": [],
   "source": []
  }
 ],
 "metadata": {
  "kernelspec": {
   "display_name": "Python 3",
   "language": "python",
   "name": "python3"
  },
  "language_info": {
   "codemirror_mode": {
    "name": "ipython",
    "version": 3
   },
   "file_extension": ".py",
   "mimetype": "text/x-python",
   "name": "python",
   "nbconvert_exporter": "python",
   "pygments_lexer": "ipython3",
   "version": "3.7.10"
  }
 },
 "nbformat": 4,
 "nbformat_minor": 5
}
