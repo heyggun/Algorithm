{
 "cells": [
  {
   "cell_type": "markdown",
   "id": "8a218398",
   "metadata": {},
   "source": [
    "# Chapter 1. 문제 해결\n",
    "\n",
    "- 문제를 해결하는 여러 알고리즘\n",
    "- 크기가 N인 문제 인스턴스에서 알고리즘의 성능을 고려하는 방법\n",
    "- 주어진 문제 인스턴스를 해결할 때, 주요 작업이 수행된 횟수를 세는 방법\n",
    "- 문제 인스턴스를 두 배씩 늘리며 증가 기준을 결정하는 방법\n",
    "- 크기가 N인 문제 인스턴스에서 알고리즘이 주요 작업을 수행한 횟수를 세어 시간 복잡도를 측정하는 방법\n",
    "- 크기가 N인 문제 인스턴스에서 알고리즘이 요구하는 메모리 양을 결정해 공간 복잡도를 측정하는 방법"
   ]
  },
  {
   "cell_type": "markdown",
   "id": "1d71a955",
   "metadata": {},
   "source": [
    "## 1.1 알고리즘이란\n",
    "\n",
    "- 알고리즘 동작 방식을 설명하는 것 -> 스토리텔링과 유사\n",
    "- 예측 가능한 시간에 정확한 결과를 반환하는, 컴퓨터 프로그램으로 구현된 단계별 문제 해결 방법\n",
    "- 알고리즘 연구는 **`정확성`**(해당 알고리즘이 모든 입력에 대해 동작하는가?)과 **`성능`**(해당 알고리즘이 주어진 문제를 해결하는데 가장 효율적인 방법인가?)를 모두 고려해야함\n",
    "- 알고리즘은 단순한 문제 해결 방법 이상\n",
    "- 프로그램은 예측 가능한 시간에 완료 되어야 함\n",
    "- 알고리즘을 설계할 떄 주요 과제는 알고리즘의 정확성과 `모든 입력`에 대한 동작을 보장하는 것"
   ]
  },
  {
   "cell_type": "markdown",
   "id": "6936c67a",
   "metadata": {},
   "source": [
    "        > '배열'\n",
    "        \n",
    "        - 배열은 연속적인 메모리 블록에 N개의 값을 저장함\n",
    "        - 여러 값을 저장하는 데 사용하는 가장 오래되고 신뢰할 수 있는 자료구조 중 하나\n",
    "        \n",
    "        '배열에 관한 중요 사항'\n",
    "        - 첫 번째 값인 A[0]은 인덱스 위치 0에 있다. 마지막 값은 A[N-1]이고 N은 배열의 크기다.\n",
    "        - 각 배열은 길이가 고정되어 있다. python과 java는 c와 달리 배열 길이를 런타임에 결정할 수 있다.\n",
    "        - 0과 N-1 사이 정수인 인덱스 위치 i로 각 위치 A[i]를 읽거나 업데이트할 수 있다.\n",
    "        - 배열은 확장(혹은 축소)할 수 없다. 대신 원하는 크기의 배열을 새로 할당하고, 남아 있어야 하는 이전 값을 복사해야 한다.\n",
    "        \n",
    "        -> 배열은 단순하면서도 데이터를 구조화하는데 매우 다양하고 효율적으로 사용됨.\n",
    "        파이썬의 list 객체는 시간이 지나면서 크기가 커지고 줄어들 수 있어 강력하지만 배열로 간 주 될 수 있음"
   ]
  },
  {
   "cell_type": "markdown",
   "id": "0db7d085",
   "metadata": {},
   "source": [
    "## 1-2. 리스트에서 가장 큰 값 찾기"
   ]
  },
  {
   "cell_type": "markdown",
   "id": "879d9279",
   "metadata": {},
   "source": [
    "리스트에서 가장 큰 값을 찾는 코드 - 결함이 있는 코드"
   ]
  },
  {
   "cell_type": "code",
   "execution_count": 1,
   "id": "067b4872",
   "metadata": {},
   "outputs": [],
   "source": [
    "def flawed(A):\n",
    "    my_max = 0\n",
    "    for v in A:\n",
    "        if my_max <v:\n",
    "            my_max = v\n",
    "    return my_max"
   ]
  },
  {
   "cell_type": "markdown",
   "id": "ccfa040b",
   "metadata": {},
   "source": [
    "- 위 구현은 A에 0보다 큰 수가 적어도 한 개 있다고 가정하므로 결함이 있음\n",
    "- flawed([-5, -3, -11])을 수행하면 잘못된 값인 0을 반환함\n",
    "- 자주 사용하는 해결책 my_max를 float(-'inf')와 같이 가능한 가장 작은 값으로 초기화하는 것임\n",
    "- 그러나 이 접근은 A가 빈 리스트인 경우에도 가장 작은 값으로 설정된 값을 반환하므로 여전히 결함이 있음"
   ]
  },
  {
   "cell_type": "markdown",
   "id": "c238c8ae",
   "metadata": {},
   "source": [
    "## 1-3. 주요 연산 횟수 계산하기"
   ]
  },
  {
   "cell_type": "code",
   "execution_count": 2,
   "id": "9639f658",
   "metadata": {},
   "outputs": [],
   "source": [
    "def largest(A):\n",
    "    my_max = A[0]\n",
    "    for idx in range(1, len(A)):\n",
    "        if my_max < A[idx]:\n",
    "            my_max = A[idx]\n",
    "            \n",
    "    return my_max"
   ]
  },
  {
   "cell_type": "markdown",
   "id": "1c0451fb",
   "metadata": {},
   "source": [
    "- 위 구현은 빈 리스트로 largest(), max()를 수행하면 ValueError : list index out of range 예외가 발생함\n",
    "- 해당 런타임 예외는 개발자가 설정한 오류로, largest()는 값이 적어도 하나 있는 리스트가 필요하다는 것을 이해하지 못한 것\n",
    "\n",
    "- 위 알고리즘은 미만 연산이 N-1호 ㅣ실행됨\n",
    "- 미만 연산을 사용한 횟수를 계산하는 것은 두 값을 비교할 때 사용한 주요 연산이기 때문임\n",
    "- 프로그램의 for나 while문 같은 것들은 사용된 프로그래밍 언어 기반으로 구현하는 동안 임의의 선택을 함"
   ]
  },
  {
   "cell_type": "markdown",
   "id": "228dfbd9",
   "metadata": {},
   "source": [
    "## 1-4. 모델로 알고리즘 성능 예측하기\n",
    "\n",
    "- 아래의 alternate() 알고리즘은 A에 있는 각 값을 반복적으로 확인해 리스트 내 다른 값들보다 크거나 같은 지를 비교\n",
    "- 이 알고리즘이 옳은 결과를 반환할지, 크기가 N인 문제에서 미만 연산을 몇 번 수행할지 확인해보기"
   ]
  },
  {
   "cell_type": "code",
   "execution_count": 3,
   "id": "17a74597",
   "metadata": {},
   "outputs": [],
   "source": [
    "def alternate(A):\n",
    "    for v in A:\n",
    "        v_is_largest = True\n",
    "        for x in A:\n",
    "            if v < x:\n",
    "                v_is_largest = False\n",
    "                break\n",
    "        if v_is_largest:\n",
    "            return v\n",
    "    return None"
   ]
  },
  {
   "cell_type": "code",
   "execution_count": null,
   "id": "db5e5c05",
   "metadata": {},
   "outputs": [],
   "source": []
  }
 ],
 "metadata": {
  "kernelspec": {
   "display_name": "Python 3",
   "language": "python",
   "name": "python3"
  },
  "language_info": {
   "codemirror_mode": {
    "name": "ipython",
    "version": 3
   },
   "file_extension": ".py",
   "mimetype": "text/x-python",
   "name": "python",
   "nbconvert_exporter": "python",
   "pygments_lexer": "ipython3",
   "version": "3.7.10"
  }
 },
 "nbformat": 4,
 "nbformat_minor": 5
}
