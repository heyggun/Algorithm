{
 "cells": [
  {
   "cell_type": "code",
   "execution_count": 1,
   "id": "f44510c3",
   "metadata": {},
   "outputs": [],
   "source": [
    "from collections import defaultdict"
   ]
  },
  {
   "cell_type": "code",
   "execution_count": 3,
   "id": "5bc3ac10",
   "metadata": {},
   "outputs": [
    {
     "name": "stdout",
     "output_type": "stream",
     "text": [
      "2 0 3 1 "
     ]
    }
   ],
   "source": [
    "class Graph:\n",
    "    \n",
    "    def __init__(self):\n",
    "        self.graph = defaultdict(list)\n",
    "        \n",
    "    def addEdge(self, u, v):\n",
    "        self.graph[u].append(v)\n",
    "        \n",
    "    def BFS(self, s):\n",
    "        \n",
    "        visited = [False] * (max(self.graph)+1)\n",
    "        \n",
    "        queue = []\n",
    "        queue.append(s)\n",
    "        visited[s] = True\n",
    "        \n",
    "        while queue:\n",
    "            s = queue.pop(0)\n",
    "            print(s, end = ' ')\n",
    "            \n",
    "            for i in self.graph[s]:\n",
    "                if visited[i] == False:\n",
    "                    queue.append(i)\n",
    "                    visited[i] = True\n",
    "                    \n",
    "                    \n",
    "if __name__ == '__main__':\n",
    "    \n",
    "    g = Graph()\n",
    "    g.addEdge(0,1)\n",
    "    g.addEdge(0,2)\n",
    "    g.addEdge(1,2)\n",
    "    g.addEdge(2,0)\n",
    "    g.addEdge(2,3)\n",
    "    g.addEdge(3,3)\n",
    "    \n",
    "    g.BFS(2)\n",
    "                "
   ]
  },
  {
   "cell_type": "code",
   "execution_count": 10,
   "id": "6bd20d70",
   "metadata": {},
   "outputs": [
    {
     "data": {
      "text/plain": [
       "defaultdict(list, {0: [1]})"
      ]
     },
     "execution_count": 10,
     "metadata": {},
     "output_type": "execute_result"
    }
   ],
   "source": []
  },
  {
   "cell_type": "markdown",
   "id": "7b423ced",
   "metadata": {},
   "source": [
    "### BFS for Disconnected Graph"
   ]
  },
  {
   "cell_type": "code",
   "execution_count": 11,
   "id": "c960dfeb",
   "metadata": {},
   "outputs": [],
   "source": [
    "def bfsOfGraph(V, adj):\n",
    "    bfs_traversal = []\n",
    "    vis = [False] * V\n",
    "    \n",
    "    for i in range(V):\n",
    "        if (vis[s]==False):\n",
    "            q = []\n",
    "            vis[i]=True\n",
    "            q.append(i)\n",
    "            \n",
    "            while (len(q)>0):\n",
    "                g_node= q.pop()\n",
    "                bfs_traversal.append(g_node)\n",
    "                for it in adj[g_node]:\n",
    "                    if (vis[it]==False):\n",
    "                        vis[it]=True\n",
    "                        q.append(it)\n",
    "                        \n",
    "    return bfs_traversal\n",
    "                    \n",
    "                "
   ]
  },
  {
   "cell_type": "code",
   "execution_count": null,
   "id": "38e13f7b",
   "metadata": {},
   "outputs": [],
   "source": []
  }
 ],
 "metadata": {
  "kernelspec": {
   "display_name": "Python 3 (ipykernel)",
   "language": "python",
   "name": "python3"
  },
  "language_info": {
   "codemirror_mode": {
    "name": "ipython",
    "version": 3
   },
   "file_extension": ".py",
   "mimetype": "text/x-python",
   "name": "python",
   "nbconvert_exporter": "python",
   "pygments_lexer": "ipython3",
   "version": "3.9.12"
  }
 },
 "nbformat": 4,
 "nbformat_minor": 5
}
