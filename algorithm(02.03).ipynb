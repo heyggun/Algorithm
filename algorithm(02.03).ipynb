{
 "cells": [
  {
   "cell_type": "markdown",
   "metadata": {},
   "source": [
    ">- Input: nums = [1,2,3,1]\n",
    "Output: 4\n",
    "Explanation: Rob house 1 (money = 1) and then rob house 3 (money = 3).\n",
    "             Total amount you can rob = 1 + 3 = 4."
   ]
  },
  {
   "cell_type": "code",
   "execution_count": 31,
   "metadata": {},
   "outputs": [
    {
     "name": "stdout",
     "output_type": "stream",
     "text": [
      "4\n"
     ]
    }
   ],
   "source": [
    "nums = [1,2,3,1]\n",
    "\n",
    "sum = 0;\n",
    "for i in range(len(nums)):\n",
    "    if(i%2 == 0):\n",
    "         sum += nums[i]\n",
    "print(sum)"
   ]
  },
  {
   "cell_type": "code",
   "execution_count": 32,
   "metadata": {},
   "outputs": [
    {
     "name": "stdout",
     "output_type": "stream",
     "text": [
      "12\n"
     ]
    }
   ],
   "source": [
    "nums = [2,7,9,3,1]\n",
    "\n",
    "sum = 0;\n",
    "\n",
    "for i in range(len(nums)):\n",
    "    if(i%2 == 0):\n",
    "        sum += nums[i]\n",
    "\n",
    "print(sum)"
   ]
  },
  {
   "cell_type": "code",
   "execution_count": 45,
   "metadata": {},
   "outputs": [
    {
     "data": {
      "text/plain": [
       "[1, 2, 4, 5]"
      ]
     },
     "execution_count": 45,
     "metadata": {},
     "output_type": "execute_result"
    }
   ],
   "source": [
    "arr = [1,2,0,4,5]\n",
    "arr.pop(2)\n",
    "arr"
   ]
  },
  {
   "cell_type": "code",
   "execution_count": 43,
   "metadata": {},
   "outputs": [
    {
     "data": {
      "text/plain": [
       "[1, 3, 12, 0, 0]"
      ]
     },
     "execution_count": 43,
     "metadata": {},
     "output_type": "execute_result"
    }
   ],
   "source": [
    "def moveZeroes(nums): \n",
    "    for i in range(len(nums))[b::-1]: \n",
    "        if nums[i] == 0:\n",
    "            nums.pop(i)\n",
    "            nums.append(0)\n",
    "\n",
    "moveZeroes(a)\n",
    "a"
   ]
  },
  {
   "cell_type": "markdown",
   "metadata": {},
   "source": [
    ">- Given an array nums, write a function to move all 0's to the end of it while maintaining the relative order of the non-zero elements.\n",
    "\n",
    "Example:\n",
    "\n",
    "Input: [0,1,0,3,12]\n",
    "Output: [1,3,12,0,0]"
   ]
  },
  {
   "cell_type": "code",
   "execution_count": 38,
   "metadata": {},
   "outputs": [],
   "source": [
    "a = [0,1,0,3,12]"
   ]
  },
  {
   "cell_type": "code",
   "execution_count": 39,
   "metadata": {},
   "outputs": [
    {
     "data": {
      "text/plain": [
       "[1, 3, 12, 0, 0]"
      ]
     },
     "execution_count": 39,
     "metadata": {},
     "output_type": "execute_result"
    }
   ],
   "source": [
    "lst1 = []\n",
    "lst2 = []\n",
    "\n",
    "for i in range(len(a)):\n",
    "    if(a[i]==0):\n",
    "        lst2.append(0)\n",
    "    else:\n",
    "        lst1.append(a[i])\n",
    "        \n",
    "lst1+lst2"
   ]
  },
  {
   "cell_type": "markdown",
   "metadata": {},
   "source": [
    "###  3이 나타나는 시간을 전부 합하면 \n",
    ">- 디지털 시계에 하루 동안 (00:00 - 23:59) 3이 표시되는 시간을 초로 환산하면 총 몇 초(second)?\n",
    ">- 디지털 시계는 하루동안 다음과 같이 시:분(00:00-23:59) 로 표시"
   ]
  },
  {
   "cell_type": "code",
   "execution_count": 14,
   "metadata": {},
   "outputs": [
    {
     "name": "stdout",
     "output_type": "stream",
     "text": [
      "29700\n"
     ]
    }
   ],
   "source": [
    "count = 0\n",
    "\n",
    "for h in range(24):\n",
    "    for m in range(60):\n",
    "        if str(h).find('3') != -1 or str(m).find('3') != -1:\n",
    "            count += 60\n",
    "\n",
    "print(count)"
   ]
  },
  {
   "cell_type": "markdown",
   "metadata": {},
   "source": [
    "### Special Sort \n",
    ">- n개의 정수를 가진 배열이 있다. 이 배열은 양의정수와 음의 정수를 모두 가지고 있다. 이 배열의 정렬이 되고 난 후, 음의 정수는 앞쪽에 야으이 정수는 뒷쪽에 이어야 한다. 또한 양의 정수와 음의 정수의 순서에는 변함이 없어야 한다."
   ]
  },
  {
   "cell_type": "code",
   "execution_count": 2,
   "metadata": {},
   "outputs": [
    {
     "name": "stdout",
     "output_type": "stream",
     "text": [
      "[-1, -2, 1, 3, 2]\n"
     ]
    }
   ],
   "source": [
    "a = [-1, 1, 3, -2, 2]\n",
    "\n",
    "\n",
    "r1 = []\n",
    "r2 = []\n",
    "\n",
    "for i in range(len(a)):\n",
    "    if (a[i]<0):\n",
    "        r1.append(a[i])\n",
    "    else:\n",
    "        r2.append(a[i])\n",
    "print(r1+r2)"
   ]
  },
  {
   "cell_type": "markdown",
   "metadata": {},
   "source": [
    "### 3이 나타나는 시간을 전부 합하기\n",
    ">- 디지털 시계에 하루동안(00:00 - 23:59) 3이 표시되는 시간을 환산하면 몇 초(second)일까 디지털 시계는 하루동안 다음과 같이 시:분(00:00 - 23:59)로 표시"
   ]
  },
  {
   "cell_type": "code",
   "execution_count": 3,
   "metadata": {},
   "outputs": [
    {
     "name": "stdout",
     "output_type": "stream",
     "text": [
      "29700\n"
     ]
    }
   ],
   "source": [
    "ans = 0\n",
    "for h in range(24):\n",
    "    for m in range(60):\n",
    "        if str(h).find('3') !=-1 or str(m).find('3')  != -1:\n",
    "            ans += 60\n",
    "print(ans)\n",
    "\n",
    "        "
   ]
  },
  {
   "cell_type": "markdown",
   "metadata": {},
   "source": [
    "### 메모리공간을 동적으로 사용하여 데이터 관리하기\n",
    "\n",
    ">- 프로그램 실행 순서\n",
    ">>- 입력할 정수의 개수를 사용자로부터 입력 받는다.\n",
    ">>- 입력받은 정수의 개수만큼 정수를 입력받는다.\n",
    ">>- 입력받은 정수의 합과 평균 값을 출력한다.\n",
    ">>- 할당된 메모리 공간을 비운다.\n",
    "\n",
    ">- 요구 사항\n",
    ">>- 메모리 공간은 사용자의 입력 수에 따라 변동된다.\n",
    ">>- 사용한 공간은 마지막에 비워야 한다.\n",
    ">>- 배열을 사용하면 안된다."
   ]
  },
  {
   "cell_type": "code",
   "execution_count": 4,
   "metadata": {},
   "outputs": [
    {
     "name": "stdout",
     "output_type": "stream",
     "text": [
      "입력할 정수의 개수 입력 >> 3\n",
      "정수 입력:1\n",
      "정수 입력:2\n",
      "정수 입력:3\n",
      "합계 : 6, 평균 2.0\n"
     ]
    }
   ],
   "source": [
    "a = int(input('입력할 정수의 개수 입력 >> '))\n",
    "sum1 = 0\n",
    "count = a\n",
    "\n",
    "while(count) :\n",
    "    count -= 1\n",
    "    sum1 += int(input('정수 입력:'))\n",
    "\n",
    "print('합계 : {}, 평균 {}'.format(sum1,sum1/a))\n",
    "\n",
    "del a, sum1, count"
   ]
  },
  {
   "cell_type": "code",
   "execution_count": 5,
   "metadata": {},
   "outputs": [
    {
     "name": "stdout",
     "output_type": "stream",
     "text": [
      "입력할 정수의 개수 입력 >> 3\n",
      "정수 입력1\n",
      "정수 입력2\n",
      "정수 입력3\n",
      "합계 : 6, 평균 2.0\n"
     ]
    }
   ],
   "source": [
    "a = int(input('입력할 정수의 개수 입력 >> '))\n",
    "sum1 = 0\n",
    "count = a\n",
    "\n",
    "for i in range(a) :\n",
    "    sum1 += int(input(\"정수 입력\"))\n",
    "    \n",
    "print(\"합계 : {}, 평균 {}\".format(sum1, sum1/a))\n",
    "    \n",
    "    "
   ]
  },
  {
   "cell_type": "code",
   "execution_count": null,
   "metadata": {},
   "outputs": [],
   "source": []
  }
 ],
 "metadata": {
  "kernelspec": {
   "display_name": "Python 3",
   "language": "python",
   "name": "python3"
  },
  "language_info": {
   "codemirror_mode": {
    "name": "ipython",
    "version": 3
   },
   "file_extension": ".py",
   "mimetype": "text/x-python",
   "name": "python",
   "nbconvert_exporter": "python",
   "pygments_lexer": "ipython3",
   "version": "3.7.6"
  }
 },
 "nbformat": 4,
 "nbformat_minor": 4
}
