{
 "cells": [
  {
   "cell_type": "markdown",
   "id": "6f7658b5",
   "metadata": {},
   "source": [
    "## 이진 탐색"
   ]
  },
  {
   "cell_type": "markdown",
   "id": "946a7427",
   "metadata": {},
   "source": [
    "- 데이터가 **`정렬된 배열`**에서 **`특정한 값을 찾아내는`** 알고리즘\n",
    "- 탐색 범위를 반으로 좁혀가며 빠르게 탐색하는 알고리즘\n",
    "\n",
    "< 이진 탐색 방법 >\n",
    "> - (1) 배열의 중간에 있는 임의의 값을 선택하여 찾고자 하는 값 X와 비교\n",
    "> - (2) x가 중간 값보다 작으면 중간 값을 기준으로 좌측의 데이터들을 대상으로, X가 중간값보다 크면 배열의 우축을 대상으로 다시 탐색\n",
    "> - (3) 동일한 방법 반복\n",
    "\n",
    "\n",
    "- `변수 3개(start, end, mid)`를 사용하여 탐색함\n",
    "- 찾으려는 데이터와 중간점 위치에 있는 데이터를 반복적 비교\n",
    "- 데이터의 개수가 1,000만 개를 넘어가거나 탐색 범위의 크기가 1,000억 이상이라면 이진 탐색 알고리즘을 의심\n",
    "- 입력 데이터의 개수가 많은 문제에 input() 함수를 넣으면 시간 초과로 오답 판정을 받을 수 있음\n",
    "- > **`sys 라이브러리의 readline() 함수를 이용`**\n",
    "  > - 주피터에서는 sys.stdin.readline() 작동안함"
   ]
  },
  {
   "cell_type": "code",
   "execution_count": 3,
   "id": "94129523",
   "metadata": {},
   "outputs": [
    {
     "name": "stdout",
     "output_type": "stream",
     "text": [
      "\n"
     ]
    }
   ],
   "source": [
    "import sys\n",
    "input_data = sys.stdin.readline().rstrip()\n",
    "print(input_data)"
   ]
  },
  {
   "cell_type": "markdown",
   "id": "066ba65b",
   "metadata": {},
   "source": [
    "#### 재귀 함수로 구현한 이진 탐색(이분 탐색)"
   ]
  },
  {
   "cell_type": "code",
   "execution_count": 4,
   "id": "f31f489c",
   "metadata": {},
   "outputs": [
    {
     "name": "stdout",
     "output_type": "stream",
     "text": [
      "10 7\n",
      "1 3 5 7 9 11 13 15 17 19\n",
      "4\n"
     ]
    }
   ],
   "source": [
    "def binary_search(array, target, start, end):\n",
    "    \n",
    "    if start > end:\n",
    "        return None\n",
    "    mid = (start+end)//2\n",
    "    \n",
    "    if array[mid] == target:\n",
    "        return mid\n",
    "    \n",
    "    elif array[mid] > target:\n",
    "        return binary_search(array, target, start, mid-1)\n",
    "        \n",
    "    else:\n",
    "        return binary_search(array, target, mid+1, end)\n",
    "\n",
    "        \n",
    "n, target = map(int, input().split())\n",
    "array = list(map(int, input().split()))\n",
    "result = binary_search(array, target, 0, n-1)\n",
    "    \n",
    "if result is None:\n",
    "    print('No elements')\n",
    "    \n",
    "else:\n",
    "    print(result+1)"
   ]
  },
  {
   "cell_type": "code",
   "execution_count": 5,
   "id": "bc78c3d8",
   "metadata": {},
   "outputs": [
    {
     "name": "stdout",
     "output_type": "stream",
     "text": [
      "10 7\n",
      "1 3 5 6 9 11 13 15 17 19\n",
      "해당 원소 없음\n"
     ]
    }
   ],
   "source": [
    "def binarySearch(array, target, start, end):\n",
    "    \n",
    "    while start<=end:\n",
    "        mid= (start+end)//2\n",
    "        \n",
    "        if array[mid] == target:\n",
    "            return mid\n",
    "\n",
    "        elif array[mid] > target:\n",
    "            return binarySearch(array, target, start, mid-1)\n",
    "\n",
    "        else:\n",
    "            return binarySearch(array, target, mid+1, end)\n",
    "            \n",
    "    return None\n",
    "\n",
    "n, target = map(int, input().split())\n",
    "array = list(map(int, input().split()))\n",
    "\n",
    "result = binarySearch(array, target, 0, n-1)\n",
    "\n",
    "if result is None:\n",
    "    print('해당 원소 없음')\n",
    "\n",
    "else:\n",
    "    print(result+1)\n",
    "                "
   ]
  },
  {
   "cell_type": "markdown",
   "id": "511b94af",
   "metadata": {},
   "source": [
    "#### 반복문으로 구현한 이진 탐색(이분 탐색)"
   ]
  },
  {
   "cell_type": "code",
   "execution_count": 6,
   "id": "3336d8a5",
   "metadata": {},
   "outputs": [
    {
     "name": "stdout",
     "output_type": "stream",
     "text": [
      "10 7\n",
      "1 3 5 6 9 11 13 15 17 19\n",
      "원소 없음\n"
     ]
    }
   ],
   "source": [
    "def binary_search(array, target, start, end):\n",
    "    \n",
    "    while start <= end:\n",
    "        mid = (start+end)//2\n",
    "        \n",
    "        if array[mid] == target:\n",
    "            return mid\n",
    "        \n",
    "        elif array[mid] > target:\n",
    "            end = mid-1\n",
    "            \n",
    "        else:\n",
    "            start = mid+1\n",
    "              \n",
    "    return None\n",
    "\n",
    "n,target = map(int, input().split())\n",
    "array = list(map(int, input().split()))\n",
    "\n",
    "result = binary_search(array, target, 0, n-1)\n",
    "\n",
    "if result is None:\n",
    "    print('원소 없음')\n",
    "    \n",
    "else:\n",
    "    print(result+1)"
   ]
  },
  {
   "cell_type": "markdown",
   "id": "36fd4d1b",
   "metadata": {},
   "source": [
    "-------------\n",
    "### `binary search` 알고리즘 문제"
   ]
  },
  {
   "attachments": {},
   "cell_type": "markdown",
   "id": "3e1a4efc",
   "metadata": {},
   "source": [
    "**Q1. 부품찾기**\n",
    "\n",
    "    전자 매장에 부품이 N개 있다. 각 부품은 정수 형태의 고유한 번호가 있다.\n",
    "    어느 날 손님이 M개 종류의 부품을 대량으로 구매하겠다며 당일 날 견적서를 요청했다.\n",
    "    손님이 문의한 부품 M개 종류를 모두 확인해서 견적서를 작성해야 한다.\n",
    "    이 때 가게 안에 부품이 모두 있는지 확인하는 프로그램을 작성해보자\n",
    "    \n",
    "    예) 가게의 부품이 총 5개 일 때(N=5), 부품 번호는 [8, 3, 7, 9, 2]\n",
    "    \n",
    "    손님은 총 3개의 부품이 있는지 확인 요청했는데, 부품 번호는 [5,7,9]와 같다.\n",
    "    \n",
    "    이때 손님이 요청한 부품 번호의 순서대로 부품을 확인해 부품이 있으면 YES, 없으면 NO 출력, 구분은 0\n",
    "    \n",
    "    <입력 조건>\n",
    "    - 첫째 줄에 정수 N이 주어진다. (1<=N<=1,000,000)\n",
    "    - 둘째 줄에는 공백으로 구분하여 N개의 정수가 주어진다. 이때 정수는 1보다 크고, 1,000,000 이하이다.\n",
    "    - 셋째 줄에는 정수 M이 주어진다. (1<=N<=100,000)\n",
    "    - 넷째 줄에는 공백으로 구분하여 M개의 정수가 주어진다. 이때 정수는 1보다 크고 1,000,000 이하이다.\n",
    "    \n",
    "    <출력 조건>\n",
    "    - 첫째 줄에 공백으로 구분하여 각 부품이 존재하면 YES, 없으면 NO를 출력한다.\n",
    "    \n",
    "    <입력 예시>\n",
    "    5\n",
    "    8 3 7 9 2\n",
    "    3\n",
    "    5 7 9\n",
    "    \n",
    "    <출력 예시>\n",
    "    no yes yes"
   ]
  },
  {
   "cell_type": "code",
   "execution_count": 15,
   "id": "fd227ec2",
   "metadata": {},
   "outputs": [
    {
     "name": "stdout",
     "output_type": "stream",
     "text": [
      "5\n",
      "8 3 7 9 2\n",
      "3\n",
      "5 7 9\n",
      "no yes yes "
     ]
    }
   ],
   "source": [
    "def binary_search_ex(array, target, start, end):\n",
    "    \n",
    "    while start <= end:\n",
    "        mid = (start+end)//2\n",
    "        cnt = 0\n",
    "        \n",
    "        for arr in array:\n",
    "            if array[mid] == target:\n",
    "                return mid\n",
    "            \n",
    "            elif array[mid] > target:\n",
    "                end = mid-1\n",
    "                \n",
    "            else:\n",
    "                start = mid+1\n",
    "        \n",
    "    return None\n",
    "        \n",
    "                \n",
    "n = int(input())\n",
    "lst_arr = list(map(int, input().split()))\n",
    "lst_arr.sort()\n",
    "\n",
    "m = int(input())\n",
    "find_arr = list(map(int, input().split()))\n",
    "\n",
    "\n",
    "for x in find_arr:\n",
    "    result = binary_search_ex(lst_arr, x, 0, n-1)\n",
    "    \n",
    "    if result is None:\n",
    "        print('no', end= ' ')\n",
    "        \n",
    "    else:\n",
    "        print('yes', end= ' ')\n",
    "    \n",
    "    "
   ]
  },
  {
   "cell_type": "markdown",
   "id": "5f826de8",
   "metadata": {},
   "source": [
    "##### 계수 정렬 이용"
   ]
  },
  {
   "cell_type": "code",
   "execution_count": 18,
   "id": "2c6bfbac",
   "metadata": {},
   "outputs": [
    {
     "name": "stdout",
     "output_type": "stream",
     "text": [
      "5\n",
      "8 3 7 9 2\n",
      "3\n",
      "5 7 9\n",
      "no yes yes "
     ]
    }
   ],
   "source": [
    "# n(가게의 부품 개수 입력 받기)\n",
    "n = int(input())\n",
    "lst_arr = [0] * 1000001\n",
    "\n",
    "# 가게에 있는 전체 부품 번호를 입력 받아서 기록\n",
    "for i in input().split():\n",
    "    lst_arr[int(i)] = 1\n",
    "    \n",
    "# m(손님이 확인 요청한 부품 개수 입력 받기)\n",
    "\n",
    "m = int(input())\n",
    "# 손님이 확인 요청한 전체 부품 번호 공백으로 구분하여 입력\n",
    "find_arr = list(map(int, input().split()))\n",
    "\n",
    "\n",
    "# 손님이 확인 요청한 부품 번호 하나씪 확인\n",
    "\n",
    "for i in find_arr:\n",
    "    \n",
    "    # 해당부품이 존재하는지 확인\n",
    "    if lst_arr[i] == 1:\n",
    "        print('yes', end =' ')\n",
    "        \n",
    "    else:\n",
    "        print('no', end=' ')\n",
    "    "
   ]
  },
  {
   "cell_type": "markdown",
   "id": "ce4e6249",
   "metadata": {},
   "source": [
    "**Q2. 부품찾기**\n",
    "\n",
    "    한 떡볶이 집의 떡의 길이가 일정하지 않으나, 대신 한 봉지 안에 들어 있는 가는 떡의 총 길이는 절단기로 맞춰준다.\n",
    "    절단기의 높이 (H)를 지정하면 줄지어진 떡을 한 번에 절단한다. 높이가 H보다 긴 떡은 H 위의 부분이 잘릴 것이고, 낮은 떡은 잘리지 않는다.\n",
    "    예를 들어 높이가 19, 14, 10, 17cm 인 떡이 나란히 있고, 절단기의 높이를 15cm로 지정하면 자른 뒤 떡의 높이는 15,14,10,15cm가 된다.\n",
    "    잘린 떡의 길이는 차례대로 4, 0, 0, 2cm 이다. 손님은 6cm 만큼의 길이를 가져간다.\n",
    "    손님이 왔을 때 요청한 총 길이가 M일 때, 적어도 M 만큼의 떡을 얻기 위해 절단기에 설정할 수 있는 높이의 최댓값을 구하는 프로그램 작성\n",
    "    \n",
    "    <입력 조건>\n",
    "    - 첫째 줄에 떡의 개수 N과 요청한 떡의 길이 M이 주어진다. (1<= N <=1,000,000, 1<=M<=2,000,000,000)\n",
    "    - 둘째 줄에는 떡의 개별 높이가 주어진다. 떡 높이의 총합은 항상 M 이상이므로, 손님은 필요한 양만큼만 떡을 사갈 수 있다.\n",
    "    높이는 10억보다 작거나 같은 양의 정수 또는 0이다.\n",
    "    \n",
    "    <출력 조건>\n",
    "    - 적어도 M만큼의 떡을 집에 가져가기 위해 절단기에 설정할 수 있는 높이의 최댓값을 출력한다.\n",
    "    \n",
    "    <입력 예시>\n",
    "    4 6\n",
    "    19 15 10 17\n",
    "    <출력 예시>\n",
    "    15"
   ]
  },
  {
   "cell_type": "markdown",
   "id": "ee671a86",
   "metadata": {},
   "source": [
    "-> 전형적인 `이진 탐색 문제` 이자 `파라메트릭 서치(Parametric Search)` 유형\n",
    ">- **`파라메트릭 서치(Parametric Search)`** \n",
    ">- 최적화 문제(문제의 상황을 만족하는 특정 변수의 최솟값, 최댓값을 구하는 문제)를 결정 문제로 바꾸어 푸는 것\n",
    ">- (1) 결정 문제를 정의했을 때, 쉽게 풀 수 있는 경우\n",
    ">- (2) (최솟값을 구하는 경우) 최솟값이 x라면, x이상의 값에 대해서는 모두 조건을 만족\n",
    ">- (3) (최댓값을 구하는 경우) 최댓값이 x라면, x이하의 값에 대해서는 모두 조건을 만족\n"
   ]
  },
  {
   "cell_type": "code",
   "execution_count": 32,
   "id": "69ffdb43",
   "metadata": {},
   "outputs": [
    {
     "name": "stdout",
     "output_type": "stream",
     "text": [
      "4 6\n",
      "19 15 10 17\n",
      "15\n"
     ]
    }
   ],
   "source": [
    "def binary_search_dduck(array, target, start, end):\n",
    "    \n",
    "    result = 0\n",
    "    while start<=end:\n",
    "        mid = (start+end)//2\n",
    "        cnt = 0\n",
    "        \n",
    "        for arr in array:\n",
    "            if arr >= mid:\n",
    "                cnt += arr-mid\n",
    "                \n",
    "                if cnt > target:\n",
    "                    break\n",
    "                \n",
    "        if cnt >= target:\n",
    "            start = mid+1            \n",
    "            \n",
    "        else:\n",
    "            end = mid-1\n",
    "            \n",
    "    return end        \n",
    "            \n",
    "    \n",
    "    \n",
    "N, M = map(int, input().split())\n",
    "array = list(map(int, input().split()))\n",
    "start, end = 1, max(array)\n",
    "\n",
    "result = binary_search_dduck(array, M, start, end)\n",
    "print(result)"
   ]
  },
  {
   "cell_type": "code",
   "execution_count": 31,
   "id": "137d0b39",
   "metadata": {},
   "outputs": [
    {
     "name": "stdout",
     "output_type": "stream",
     "text": [
      "4 6\n",
      "19 15 10 17\n",
      "15\n"
     ]
    }
   ],
   "source": [
    "N, M = map(int, input().split())\n",
    "array = list(map(int, input().split()))\n",
    "\n",
    "start, end, result = 1, max(array),0\n",
    "\n",
    "while start<=end:\n",
    "    mid = (start+end)//2\n",
    "    cnt = 0\n",
    "    \n",
    "    for arr in array:\n",
    "        if arr >= mid:\n",
    "            cnt += arr-mid\n",
    "            \n",
    "            if cnt > M:\n",
    "                break\n",
    "                    \n",
    "    if cnt >= M:\n",
    "        start = mid+1\n",
    "\n",
    "    else:\n",
    "        end = mid-1\n",
    "\n",
    "print(end)"
   ]
  },
  {
   "cell_type": "markdown",
   "id": "c9b02cf0",
   "metadata": {},
   "source": [
    "------------------"
   ]
  },
  {
   "cell_type": "markdown",
   "id": "38314011",
   "metadata": {},
   "source": [
    " **Q3**.\n",
    "\n",
    "    연초가되어 카카오에서 고생한 직원 100명을 뽑아서 카카오해변으로 휴가를 보내주었습니다. 1년 동안 힘들게 일한 라이언은 신이나서 해변에 멋진 작품을 만들고 밥을 먹고 돌아왔습니다. 돌아오니 아니 웬걸, 라이언이 공들여 만든 작품은 망가져있고 모래사장에 발자국이 하나 찍혀 있었습니다. 해변에는 100명의 사람들이 있습니다. 발자국 길이를 잰 라이언은 어떻게 하면 빠르게 범인을 찾을 수 있을까요?\n",
    "    \n",
    "    범인을 찾는 두 가지 방법이 있습니다.\n",
    "    \n",
    "    [방법 1] 해변에 찍힌 발자국의 길이와 같은 사람이 나올때까지 만나는 사람마다 발 크기를 재는 방\n",
    "    [방법 2] 사람드에게 신발 크기가 작은 순서부터 큰 순서로 서 있게 한 다음에 중간에 서 있는 사람의 발 크기부터 비교합니다."
   ]
  },
  {
   "cell_type": "code",
   "execution_count": 33,
   "id": "4b349611",
   "metadata": {},
   "outputs": [],
   "source": [
    "def binarySearch(array, target, start, end):\n",
    "    \n",
    "    while start<=end:\n",
    "        mid = (start+end)//2\n",
    "        \n",
    "        if arr[mid] == target:\n",
    "            return mid\n",
    "        \n",
    "        elif arr[mid] > target:\n",
    "            binarySearch(array, target, start, end-1)\n",
    "            \n",
    "        else:\n",
    "            binarySearch(array, target, mid+1, end)       "
   ]
  },
  {
   "cell_type": "code",
   "execution_count": 34,
   "id": "54b00733",
   "metadata": {},
   "outputs": [],
   "source": [
    "def binarySearch(array, value, low, hight):\n",
    "    \n",
    "    if low > high:\n",
    "        return False\n",
    "    \n",
    "    mid = (low+high) / 2\n",
    "    \n",
    "    if array[mid] > value:\n",
    "        return binarySearch(array, value, low, mid-1)\n",
    "    \n",
    "    elif arry[mid] < value:\n",
    "        return binarySearch(array, value, mid+1, high)\n",
    "    \n",
    "    else:\n",
    "        return mid"
   ]
  },
  {
   "attachments": {
    "image.png": {
     "image/png": "[encoded data removed]"
    }
   },
   "cell_type": "markdown",
   "id": "fa6a3b5f",
   "metadata": {},
   "source": [
    "https://www.acmicpc.net/problem/2805\n",
    "\n",
    "**Q4. 백준 2805**\n",
    "    \n",
    "    \n",
    "    상근이는 나무 M미터가 필요하다. 근처에 나무를 구입할 곳이 모두 망해버렸기 때문에, 정부에 벌목 허가를 요청했다. 정부는 상근이네 집 근처의 나무 한 줄에 대한 벌목 허가를 내주었고, 상근이는 새로 구입한 목재절단기를 이용해서 나무를 구할것이다.\n",
    "    \n",
    "    목재절단기는 다음과 같이 동작한다. 먼저, 상근이는 절단기에 높이 H를 지정해야 한다. 높이를 지정하면 톱날이 땅으로부터 H미터 위로 올라간다. 그 다음, 한 줄에 연속해있는 나무를 모두 절단해버린다. 따라서, 높이가 H보다 큰 나무는 H 위의 부분이 잘릴 것이고, 낮은 나무는 잘리지 않을 것이다. 예를 들어, 한 줄에 연속해있는 나무의 높이가 20, 15, 10, 17이라고 하자. 상근이가 높이를 15로 지정했다면, 나무를 자른 뒤의 높이는 15, 15, 10, 15가 될 것이고, 상근이는 길이가 5인 나무와 2인 나무를 들고 집에 갈 것이다. (총 7미터를 집에 들고 간다) 절단기에 설정할 수 있는 높이는 양의 정수 또는 0이다.\n",
    "    \n",
    "    상근이는 환경에 매우 관심이 많기 때문에, 나무를 필요한 만큼만 집으로 가져가려고 한다. 이때, 적어도 M미터의 나무를 집에 가져가기 위해서 절단기에 설정할 수 있는 높이의 최댓값을 구하는 프로그램을 작성하시오.\n",
    "    \n",
    "    \n",
    "    <입력>\n",
    "    \n",
    "    첫째 줄에 나무의 수 N과 상근이가 집으로 가져가려고 하는 나무의 길이 M이 주어진다. (1 ≤ N ≤ 1,000,000, 1 ≤ M ≤ 2,000,000,000)\n",
    "    \n",
    "    둘째 줄에는 나무의 높이가 주어진다. 나무의 높이의 합은 항상 M보다 크거나 같기 때문에, 상근이는 집에 필요한 나무를 항상 가져갈 수 있다. 높이는 1,000,000,000보다 작거나 같은 양의 정수 또는 0이다.\n",
    "    \n",
    "    <출력>\n",
    "    \n",
    "    적어도 M미터의 나무를 집에 가져가기 위해서 절단기에 설정할 수 있는 높이의 최댓값을 출력한다.\n",
    "  \n",
    "  \n",
    "![image.png](attachment:image.png)"
   ]
  },
  {
   "cell_type": "code",
   "execution_count": 35,
   "id": "a372c7d6",
   "metadata": {},
   "outputs": [],
   "source": [
    "# import sys\n",
    "# input = sys.stdin.readline\n",
    "\n",
    "# n, target = map(int, input().split())\n",
    "# trees = [map(int, input().split())]"
   ]
  },
  {
   "cell_type": "markdown",
   "id": "6acee5fd",
   "metadata": {},
   "source": [
    "<시간초과 걸림>"
   ]
  },
  {
   "cell_type": "code",
   "execution_count": 36,
   "id": "0ee7201b",
   "metadata": {},
   "outputs": [
    {
     "name": "stdout",
     "output_type": "stream",
     "text": [
      "4 7\n",
      "20 15 10 17\n",
      "15\n"
     ]
    }
   ],
   "source": [
    "n, target = map(int, input().split())\n",
    "trees = list(map(int, input().split()))\n",
    "\n",
    "min_len, max_len = 1, max(trees)\n",
    "\n",
    "while min_len <= max_len:\n",
    "    mid = (min_len + max_len)//2\n",
    "    cnt = 0\n",
    "    \n",
    "    for tree in trees:\n",
    "        if tree >= mid:\n",
    "            cnt += tree-mid\n",
    "        \n",
    "    if cnt >= target:\n",
    "        min_len = mid+1\n",
    "        \n",
    "    else:\n",
    "        max_len = mid-1\n",
    "        \n",
    "print(max_len)        "
   ]
  },
  {
   "cell_type": "markdown",
   "id": "2accc1cf",
   "metadata": {},
   "source": [
    "<시간 초과 해결>"
   ]
  },
  {
   "cell_type": "code",
   "execution_count": 37,
   "id": "fdf7a2fb",
   "metadata": {},
   "outputs": [
    {
     "name": "stdout",
     "output_type": "stream",
     "text": [
      "5 20\n",
      "4 42 40 26 46\n",
      "36\n"
     ]
    }
   ],
   "source": [
    "n, target = map(int, input().split())\n",
    "trees = list(map(int, input().split()))\n",
    "\n",
    "min_len, max_len = 1, max(trees)\n",
    "\n",
    "while min_len <= max_len:\n",
    "    mid = (min_len + max_len)//2\n",
    "    cnt = 0\n",
    "    \n",
    "    for tree in trees:\n",
    "        if tree >= mid:\n",
    "            cnt += tree-mid\n",
    "            \n",
    "            if cnt > target:\n",
    "                break\n",
    "            \n",
    "        \n",
    "    if cnt >= target:\n",
    "        min_len = mid+1\n",
    "        \n",
    "    else:\n",
    "        max_len = mid-1\n",
    "        \n",
    "print(max_len)"
   ]
  },
  {
   "cell_type": "code",
   "execution_count": 48,
   "id": "f9033171",
   "metadata": {},
   "outputs": [
    {
     "name": "stdout",
     "output_type": "stream",
     "text": [
      "5 20\n",
      "4 42 40 26 46\n",
      "36\n"
     ]
    }
   ],
   "source": [
    "def binary_search_tree(array, target, start, end):\n",
    "    result = 0\n",
    "    \n",
    "    while start <= end:\n",
    "        mid = (start+end)//2\n",
    "        cnt = 0\n",
    "        \n",
    "        for arr in array:\n",
    "            if arr > mid:\n",
    "                cnt += arr-mid\n",
    "                \n",
    "                if cnt > target:\n",
    "                    break\n",
    "                    \n",
    "        if cnt >= target:\n",
    "            start = mid+1\n",
    "            \n",
    "        else:\n",
    "            end = mid-1\n",
    "    \n",
    "    return end\n",
    "    \n",
    "N, M = map(int, input().split())\n",
    "array = list(map(int, input().split()))\n",
    "\n",
    "result = binary_search_tree(array, M, 1, max(array))\n",
    "print(result)"
   ]
  },
  {
   "attachments": {
    "image.png": {
     "image/png": "[encoded data removed]"
    }
   },
   "cell_type": "markdown",
   "id": "c302f0da",
   "metadata": {},
   "source": [
    "https://www.acmicpc.net/problem/1654\n",
    "\n",
    "\n",
    "**Q5. 백준 1654**\n",
    "    \n",
    "    집에서 시간을 보내던 오영식은 박성원의 부름을 받고 급히 달려왔다. 박성원이 캠프 때 쓸 N개의 랜선을 만들어야 하는데 너무 바빠서 영식이에게 도움을 청했다.\n",
    "\n",
    "    이미 오영식은 자체적으로 K개의 랜선을 가지고 있다. 그러나 K개의 랜선은 길이가 제각각이다. 박성원은 랜선을 모두 N개의 같은 길이의 랜선으로 만들고 싶었기 때문에 K개의 랜선을 잘라서 만들어야 한다. 예를 들어 300cm 짜리 랜선에서 140cm 짜리 랜선을 두 개 잘라내면 20cm는 버려야 한다. (이미 자른 랜선은 붙일 수 없다.)\n",
    "\n",
    "    편의를 위해 랜선을 자르거나 만들 때 손실되는 길이는 없다고 가정하며, 기존의 K개의 랜선으로 N개의 랜선을 만들 수 없는 경우는 없다고 가정하자. 그리고 자를 때는 항상 센티미터 단위로 정수길이만큼 자른다고 가정하자. N개보다 많이 만드는 것도 N개를 만드는 것에 포함된다. 이때 만들 수 있는 최대 랜선의 길이를 구하는 프로그램을 작성하시오.\n",
    "    \n",
    "    \n",
    "    <입력>\n",
    "    \n",
    "    첫째 줄에는 오영식이 이미 가지고 있는 랜선의 개수 K, 그리고 필요한 랜선의 개수 N이 입력된다. K는 1이상 10,000이하의 정수이고, N은 1이상 1,000,000이하의 정수이다. 그리고 항상 K ≦ N 이다. 그 후 K줄에 걸쳐 이미 가지고 있는 각 랜선의 길이가 센티미터 단위의 정수로 입력된다. 랜선의 길이는 2^31-1보다 작거나 같은 자연수이다.\n",
    "    \n",
    "    <출력>\n",
    "    \n",
    "    첫째 줄에 N개를 만들 수 있는 랜선의 최대 길이를 센티미터 단위의 정수로 출력한다.\n",
    "    \n",
    "    \n",
    "![image.png](attachment:image.png)\n",
    "\n",
    "    802cm 랜선에서 4개, 743cm 랜선에서 3개, 457cm 랜선에서 2개, 539cm 랜선에서 2개를 잘라내 모두 11개를 만들 수 있다."
   ]
  },
  {
   "cell_type": "code",
   "execution_count": 47,
   "id": "daf0e70a",
   "metadata": {},
   "outputs": [
    {
     "name": "stdout",
     "output_type": "stream",
     "text": [
      "4 11\n",
      "802\n",
      "743\n",
      "457\n",
      "539\n",
      "200\n"
     ]
    }
   ],
   "source": [
    "n, target = map(int, input().split())\n",
    "lines = [int(input()) for _ in range(n)]\n",
    "\n",
    "min_len=1\n",
    "max_len=max(lines)\n",
    "result = 0\n",
    "\n",
    "while min_len<=max_len:\n",
    "    mid = (min_len+max_len)//2\n",
    "    cnt = 0\n",
    "    \n",
    "    for line in lines:\n",
    "        cnt += line//mid\n",
    "    \n",
    "    \n",
    "    if cnt >= target:\n",
    "        result = mid\n",
    "        min_len = mid+1\n",
    "               \n",
    "    else:\n",
    "        max_len = mid-1\n",
    "        \n",
    "print(result)"
   ]
  },
  {
   "cell_type": "code",
   "execution_count": 49,
   "id": "660ab564",
   "metadata": {},
   "outputs": [
    {
     "name": "stdout",
     "output_type": "stream",
     "text": [
      "4 11\n",
      "802\n",
      "743\n",
      "457\n",
      "539\n",
      "200\n"
     ]
    }
   ],
   "source": [
    "\n",
    "def binary_serach_len(array, M, start, end):\n",
    "    result = 0 \n",
    "    while start<=end:\n",
    "        mid = (start+end)//2\n",
    "        cnt = 0\n",
    "\n",
    "        for arr in array:\n",
    "            if arr > mid:\n",
    "                cnt += arr//mid\n",
    "\n",
    "                if cnt > M:\n",
    "                    break\n",
    "\n",
    "        if cnt >= M:\n",
    "            start = mid+1\n",
    "            result = mid\n",
    "\n",
    "        else:\n",
    "            end = mid-1\n",
    "\n",
    "    return result\n",
    "\n",
    "\n",
    "K, M = map(int, input().split())\n",
    "array = [int(input()) for _ in range(K)]\n",
    "result = binary_serach_len(array, M, 1, max(array))\n",
    "print(result)  "
   ]
  },
  {
   "cell_type": "markdown",
   "id": "784bbab1",
   "metadata": {},
   "source": [
    "#### Python `bisect` 라이브러리(모듈) 사용 이진 탐색"
   ]
  },
  {
   "attachments": {
    "image.png": {
     "image/png": "[encoded data removed]"
    }
   },
   "cell_type": "markdown",
   "id": "92cdec5d",
   "metadata": {},
   "source": [
    "![image.png](attachment:image.png)\n",
    "\n",
    "- bisect_left(a, x) : 정렬된 순서를 유지하면서 리스트 a에 데이터 x를 삽입할 가장 왼쪽 인덱스를 찾음\n",
    "- bisect_right(a, x) : 정렬된 순서를 유지하면서 리스트 a에 데이터 x를 삽입할 가장 오른쪽 인덱스를 찾음\n",
    "\n",
    "\n",
    "> `정렬된 리스트`에서 값이 `특정 범위에 속하는 원소의 개수`를 구하고자 할때 효과적으로 사용"
   ]
  },
  {
   "cell_type": "code",
   "execution_count": 50,
   "id": "51172752",
   "metadata": {},
   "outputs": [
    {
     "name": "stdout",
     "output_type": "stream",
     "text": [
      "2\n",
      "4\n"
     ]
    }
   ],
   "source": [
    "from bisect import bisect_left, bisect_right\n",
    "\n",
    "a = [1,2,4,4,8]\n",
    "x = 4\n",
    "# 새롭게 데이터 4를 삽입하려고 가정\n",
    "\n",
    "print(bisect_left(a,x))\n",
    "print(bisect_right(a,x))\n"
   ]
  },
  {
   "cell_type": "code",
   "execution_count": 51,
   "id": "50d59c0b",
   "metadata": {},
   "outputs": [],
   "source": [
    "from bisect import bisect_left, bisect_right\n",
    "\n",
    "\n",
    "def add_elements(a, left, right):\n",
    "    \n",
    "    left_idx = bisect_left(a,left)\n",
    "    right_idx = bisect_right(a,right)\n",
    "    \n",
    "    return left_idx, right_idx"
   ]
  },
  {
   "cell_type": "code",
   "execution_count": 52,
   "id": "9017f9cd",
   "metadata": {},
   "outputs": [
    {
     "data": {
      "text/plain": [
       "(5, 6)"
      ]
     },
     "execution_count": 52,
     "metadata": {},
     "output_type": "execute_result"
    }
   ],
   "source": [
    "lst = [0,1,2,3,4,5,6,7,8,9]\n",
    "add_elements(lst,5,5)"
   ]
  },
  {
   "cell_type": "markdown",
   "id": "e89db46e",
   "metadata": {},
   "source": [
    "**Q3.** \n",
    "    \n",
    "    **[0, 1, 2, 3, 4, 5, 6, 7, 8, 9] 의 정렬된 배열이 있을 때,\n",
    "    현재 정렬된 상태를 유지하면서 n = 5 이라는 요소를 배열에 추가하고 싶다고 해봅시다.\n",
    "    어떤 인덱스에 넣어야하는지 계산하는 함수를 구하기**"
   ]
  },
  {
   "cell_type": "markdown",
   "id": "7428b95f",
   "metadata": {},
   "source": [
    "`count_by_range(a, left_value, right_range) 사용자 함수`\n",
    "\n",
    "- 정렬된 리스트에서 값이 [left_value, right_value] 에 속하는 데이터의 개수를 반환\n",
    "- 원소의 개수의 값을 x, left_value <= x <= right_value 인 원소의 개수를 O(logN)으로 빠르게 계산 가능"
   ]
  },
  {
   "cell_type": "code",
   "execution_count": 53,
   "id": "8b0a773a",
   "metadata": {},
   "outputs": [
    {
     "name": "stdout",
     "output_type": "stream",
     "text": [
      "2\n",
      "5\n"
     ]
    }
   ],
   "source": [
    "# 값이 [left_value, right_value] 인 데이터의 개수를 반환하는 함수\n",
    "\n",
    "def count_by_range(a, left_value, right_value):\n",
    "    right_index = bisect_right(a, right_value)\n",
    "    left_index= bisect_left(a, left_value)\n",
    "    \n",
    "    return right_index - left_index\n",
    "\n",
    "\n",
    "a = [1,2,3,3,3,4,4,8,9]\n",
    "\n",
    "# 값이 4인 데이터 개수 출력\n",
    "print(count_by_range(a, 4, 4))\n",
    "\n",
    "# 값이 -1,3 범위에 있는 데이터 개수 출력\n",
    "print(count_by_range(a, -1, 3))"
   ]
  },
  {
   "cell_type": "code",
   "execution_count": null,
   "id": "c1c523d4",
   "metadata": {},
   "outputs": [],
   "source": []
  },
  {
   "cell_type": "code",
   "execution_count": null,
   "id": "2f618f5b",
   "metadata": {},
   "outputs": [],
   "source": []
  }
 ],
 "metadata": {
  "kernelspec": {
   "display_name": "Python 3",
   "language": "python",
   "name": "python3"
  },
  "language_info": {
   "codemirror_mode": {
    "name": "ipython",
    "version": 3
   },
   "file_extension": ".py",
   "mimetype": "text/x-python",
   "name": "python",
   "nbconvert_exporter": "python",
   "pygments_lexer": "ipython3",
   "version": "3.7.10"
  }
 },
 "nbformat": 4,
 "nbformat_minor": 5
}
