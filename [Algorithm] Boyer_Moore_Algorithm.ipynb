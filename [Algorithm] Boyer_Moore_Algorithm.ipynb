{
 "cells": [
  {
   "cell_type": "markdown",
   "id": "51abcf1b",
   "metadata": {},
   "source": [
    "# Boyer-Moore Algorithm\n",
    "\n",
    "https://www.geeksforgeeks.org/boyer-moore-algorithm-for-pattern-searching/"
   ]
  },
  {
   "cell_type": "code",
   "execution_count": 21,
   "id": "1532f8b2",
   "metadata": {},
   "outputs": [],
   "source": [
    "NO_OF_CHARS = 256\n",
    "\n",
    "def badCharHeuristic(string, size):\n",
    "    \"\"\"\n",
    "    The preprocessing function for\n",
    "    Boyer Moore's bad character heuristic\"\"\"\n",
    "    \n",
    "    badChar = [-1]*NO_OF_CHARS\n",
    "    for i in range(size):\n",
    "        print(f\" i -> {i}\")\n",
    "        print(f\" ord - > {ord(string[i])}\")\n",
    "        badChar[ord(string[i])]=i\n",
    "        \n",
    "    return badChar"
   ]
  },
  {
   "cell_type": "code",
   "execution_count": 23,
   "id": "8c0cc0c4",
   "metadata": {
    "scrolled": true
   },
   "outputs": [
    {
     "name": "stdout",
     "output_type": "stream",
     "text": [
      " i -> 0\n",
      " ord - > 65\n",
      " i -> 1\n",
      " ord - > 66\n",
      " i -> 2\n",
      " ord - > 67\n",
      "[-1, -1, -1, -1, -1, -1, -1, -1, -1, -1, -1, -1, -1, -1, -1, -1, -1, -1, -1, -1, -1, -1, -1, -1, -1, -1, -1, -1, -1, -1, -1, -1, -1, -1, -1, -1, -1, -1, -1, -1, -1, -1, -1, -1, -1, -1, -1, -1, -1, -1, -1, -1, -1, -1, -1, -1, -1, -1, -1, -1, -1, -1, -1, -1, -1, 0, 1, 2, -1, -1, -1, -1, -1, -1, -1, -1, -1, -1, -1, -1, -1, -1, -1, -1, -1, -1, -1, -1, -1, -1, -1, -1, -1, -1, -1, -1, -1, -1, -1, -1, -1, -1, -1, -1, -1, -1, -1, -1, -1, -1, -1, -1, -1, -1, -1, -1, -1, -1, -1, -1, -1, -1, -1, -1, -1, -1, -1, -1, -1, -1, -1, -1, -1, -1, -1, -1, -1, -1, -1, -1, -1, -1, -1, -1, -1, -1, -1, -1, -1, -1, -1, -1, -1, -1, -1, -1, -1, -1, -1, -1, -1, -1, -1, -1, -1, -1, -1, -1, -1, -1, -1, -1, -1, -1, -1, -1, -1, -1, -1, -1, -1, -1, -1, -1, -1, -1, -1, -1, -1, -1, -1, -1, -1, -1, -1, -1, -1, -1, -1, -1, -1, -1, -1, -1, -1, -1, -1, -1, -1, -1, -1, -1, -1, -1, -1, -1, -1, -1, -1, -1, -1, -1, -1, -1, -1, -1, -1, -1, -1, -1, -1, -1, -1, -1, -1, -1, -1, -1, -1, -1, -1, -1, -1, -1, -1, -1, -1, -1, -1, -1, -1, -1, -1, -1, -1, -1]\n"
     ]
    }
   ],
   "source": [
    "txt = \"ABAAABCD\"\n",
    "pattern = \"ABC\"\n",
    "\n",
    "print(badCharHeuristic(pattern, len(pattern)))"
   ]
  },
  {
   "cell_type": "code",
   "execution_count": 27,
   "id": "f71fd88f",
   "metadata": {},
   "outputs": [],
   "source": [
    "def search(text, pattern):\n",
    "    \"\"\"\n",
    "    A pattern searching function that uses Bad Character\n",
    "    Heuristic of Boyer Moore Algorithm\n",
    "    \"\"\"\n",
    "    \n",
    "    m, n = len(pattern), len(text)\n",
    "    \n",
    "    badChar = badCharHeuristic(pattern, m)\n",
    "    s= 0\n",
    "    \n",
    "    while (s <= n-m):\n",
    "        j = m-1\n",
    "        \n",
    "        while j>=0 and pattern[j] == text[s+j]:\n",
    "            j -=1\n",
    "            \n",
    "        if j<0:\n",
    "            print('Pattern occur at shift = {}'.format(s))\n",
    "            \n",
    "            s += (m-badChar[ord(text[s+m])] if s+m<n else 1)\n",
    "        \n",
    "        else:\n",
    "            \n",
    "            s += max(1, j-badChar[ord(text[s+j])])"
   ]
  },
  {
   "cell_type": "code",
   "execution_count": 9,
   "id": "689528ae",
   "metadata": {},
   "outputs": [
    {
     "data": {
      "text/plain": [
       "inf"
      ]
     },
     "execution_count": 9,
     "metadata": {},
     "output_type": "execute_result"
    }
   ],
   "source": []
  },
  {
   "cell_type": "code",
   "execution_count": null,
   "id": "aee4906a",
   "metadata": {},
   "outputs": [],
   "source": []
  }
 ],
 "metadata": {
  "kernelspec": {
   "display_name": "Python 3 (ipykernel)",
   "language": "python",
   "name": "python3"
  },
  "language_info": {
   "codemirror_mode": {
    "name": "ipython",
    "version": 3
   },
   "file_extension": ".py",
   "mimetype": "text/x-python",
   "name": "python",
   "nbconvert_exporter": "python",
   "pygments_lexer": "ipython3",
   "version": "3.9.12"
  }
 },
 "nbformat": 4,
 "nbformat_minor": 5
}
